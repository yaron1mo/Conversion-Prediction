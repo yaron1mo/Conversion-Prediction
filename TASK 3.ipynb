{
 "cells": [
  {
   "cell_type": "code",
   "execution_count": null,
   "id": "4438975e",
   "metadata": {},
   "outputs": [],
   "source": [
    "import pandas as pd\n",
    "import numpy as np\n",
    "import seaborn as sns\n",
    "import matplotlib.pyplot as plt\n",
    "from sklearn.model_selection import train_test_split\n",
    "from sklearn.model_selection import RandomizedSearchCV, StratifiedKFoldfrom sklearn.model_selection import StratifiedKFold, cross_validate\n",
    "from sklearn.base import BaseEstimator, TransformerMixin\n",
    "from sklearn.preprocessing import OneHotEncoder\n",
    "from sklearn.compose import ColumnTransformer\n",
    "from sklearn.ensemble import RandomForestClassifier\n",
    "from xgboost import XGBClassifier\n",
    "from sklearn.pipeline import Pipeline\n",
    "from sklearn.linear_model import LogisticRegression\n",
    "from sklearn.metrics import roc_auc_score, f1_score\n",
    "\n"
   ]
  },
  {
   "cell_type": "code",
   "execution_count": 2,
   "id": "3ab5e228",
   "metadata": {},
   "outputs": [],
   "source": [
    "subs = pd.read_csv(r'C:\\Users\\Pysku\\OneDrive\\Рабочий стол\\Headway\\subscription_funnel (1).csv')\n",
    "event = pd.read_csv(r'C:\\Users\\Pysku\\OneDrive\\Рабочий стол\\Headway\\events (1).csv')\n",
    "user = pd.read_csv(r\"C:\\Users\\Pysku\\OneDrive\\Рабочий стол\\Headway\\users.csv\")"
   ]
  },
  {
   "cell_type": "code",
   "execution_count": 3,
   "id": "7851b4dd",
   "metadata": {},
   "outputs": [
    {
     "data": {
      "text/html": [
       "<div>\n",
       "<style scoped>\n",
       "    .dataframe tbody tr th:only-of-type {\n",
       "        vertical-align: middle;\n",
       "    }\n",
       "\n",
       "    .dataframe tbody tr th {\n",
       "        vertical-align: top;\n",
       "    }\n",
       "\n",
       "    .dataframe thead th {\n",
       "        text-align: right;\n",
       "    }\n",
       "</style>\n",
       "<table border=\"1\" class=\"dataframe\">\n",
       "  <thead>\n",
       "    <tr style=\"text-align: right;\">\n",
       "      <th></th>\n",
       "      <th>user_id</th>\n",
       "      <th>first_transaction</th>\n",
       "      <th>first_marketplace</th>\n",
       "      <th>first_subscription_type</th>\n",
       "      <th>trial_optin_at</th>\n",
       "      <th>trial_retention_at</th>\n",
       "      <th>first_autorenewal_off</th>\n",
       "      <th>revenue_d8</th>\n",
       "    </tr>\n",
       "  </thead>\n",
       "  <tbody>\n",
       "    <tr>\n",
       "      <th>0</th>\n",
       "      <td>624641c9d32d7a000c2c1996</td>\n",
       "      <td>2022-04-08 00:14:34</td>\n",
       "      <td>recurly</td>\n",
       "      <td>yearly</td>\n",
       "      <td>2022-04-01 00:09:35.212</td>\n",
       "      <td>2022-04-08 00:14:34</td>\n",
       "      <td>NaN</td>\n",
       "      <td>88.57</td>\n",
       "    </tr>\n",
       "    <tr>\n",
       "      <th>1</th>\n",
       "      <td>624641d4d32d7a000cc01dd3</td>\n",
       "      <td>NaN</td>\n",
       "      <td>NaN</td>\n",
       "      <td>NaN</td>\n",
       "      <td>2022-04-01 00:07:50.646</td>\n",
       "      <td>NaN</td>\n",
       "      <td>2022-04-02 16:22:55.769</td>\n",
       "      <td>NaN</td>\n",
       "    </tr>\n",
       "    <tr>\n",
       "      <th>2</th>\n",
       "      <td>624649ffd32d7a000c88ac06</td>\n",
       "      <td>NaN</td>\n",
       "      <td>NaN</td>\n",
       "      <td>NaN</td>\n",
       "      <td>2022-04-01 00:43:20.381</td>\n",
       "      <td>NaN</td>\n",
       "      <td>2022-04-07 11:39:15.412</td>\n",
       "      <td>NaN</td>\n",
       "    </tr>\n",
       "    <tr>\n",
       "      <th>3</th>\n",
       "      <td>6246505fd32d7a000ce56c6f</td>\n",
       "      <td>2022-04-08 01:10:28</td>\n",
       "      <td>itunes</td>\n",
       "      <td>3-months</td>\n",
       "      <td>2022-04-01 01:10:32.74</td>\n",
       "      <td>NaN</td>\n",
       "      <td>NaN</td>\n",
       "      <td>16.75</td>\n",
       "    </tr>\n",
       "    <tr>\n",
       "      <th>4</th>\n",
       "      <td>624651b0d32d7a000f2b9ae7</td>\n",
       "      <td>2022-04-08 01:22:18</td>\n",
       "      <td>gp-android</td>\n",
       "      <td>yearly</td>\n",
       "      <td>2022-04-01 01:18:39.742</td>\n",
       "      <td>2022-04-08 01:22:18</td>\n",
       "      <td>NaN</td>\n",
       "      <td>62.52</td>\n",
       "    </tr>\n",
       "  </tbody>\n",
       "</table>\n",
       "</div>"
      ],
      "text/plain": [
       "                    user_id    first_transaction first_marketplace   \n",
       "0  624641c9d32d7a000c2c1996  2022-04-08 00:14:34           recurly  \\\n",
       "1  624641d4d32d7a000cc01dd3                  NaN               NaN   \n",
       "2  624649ffd32d7a000c88ac06                  NaN               NaN   \n",
       "3  6246505fd32d7a000ce56c6f  2022-04-08 01:10:28            itunes   \n",
       "4  624651b0d32d7a000f2b9ae7  2022-04-08 01:22:18        gp-android   \n",
       "\n",
       "  first_subscription_type           trial_optin_at   trial_retention_at   \n",
       "0                  yearly  2022-04-01 00:09:35.212  2022-04-08 00:14:34  \\\n",
       "1                     NaN  2022-04-01 00:07:50.646                  NaN   \n",
       "2                     NaN  2022-04-01 00:43:20.381                  NaN   \n",
       "3                3-months   2022-04-01 01:10:32.74                  NaN   \n",
       "4                  yearly  2022-04-01 01:18:39.742  2022-04-08 01:22:18   \n",
       "\n",
       "     first_autorenewal_off  revenue_d8  \n",
       "0                      NaN       88.57  \n",
       "1  2022-04-02 16:22:55.769         NaN  \n",
       "2  2022-04-07 11:39:15.412         NaN  \n",
       "3                      NaN       16.75  \n",
       "4                      NaN       62.52  "
      ]
     },
     "execution_count": 3,
     "metadata": {},
     "output_type": "execute_result"
    }
   ],
   "source": [
    "subs.head()"
   ]
  },
  {
   "cell_type": "code",
   "execution_count": 4,
   "id": "7edf7ff1",
   "metadata": {},
   "outputs": [],
   "source": [
    "# спочатку ми очищаємо кожен датасет окремо перед їх об'єднанням"
   ]
  },
  {
   "cell_type": "code",
   "execution_count": 5,
   "id": "ce7fe959",
   "metadata": {},
   "outputs": [
    {
     "name": "stdout",
     "output_type": "stream",
     "text": [
      "<class 'pandas.core.frame.DataFrame'>\n",
      "RangeIndex: 194459 entries, 0 to 194458\n",
      "Data columns (total 8 columns):\n",
      " #   Column                   Non-Null Count   Dtype  \n",
      "---  ------                   --------------   -----  \n",
      " 0   user_id                  194459 non-null  object \n",
      " 1   first_transaction        86275 non-null   object \n",
      " 2   first_marketplace        86275 non-null   object \n",
      " 3   first_subscription_type  86275 non-null   object \n",
      " 4   trial_optin_at           182924 non-null  object \n",
      " 5   trial_retention_at       71838 non-null   object \n",
      " 6   first_autorenewal_off    121331 non-null  object \n",
      " 7   revenue_d8               75372 non-null   float64\n",
      "dtypes: float64(1), object(7)\n",
      "memory usage: 11.9+ MB\n"
     ]
    }
   ],
   "source": [
    "subs.head()\n",
    "subs.dtypes\n",
    "subs.info()"
   ]
  },
  {
   "cell_type": "code",
   "execution_count": 6,
   "id": "51697807",
   "metadata": {},
   "outputs": [],
   "source": [
    "# Our main table is 'subs' - so we are going to start cleaning and aggregating data in this table first"
   ]
  },
  {
   "cell_type": "code",
   "execution_count": 7,
   "id": "d50b4234",
   "metadata": {},
   "outputs": [],
   "source": [
    "# the task is to predict coversion rate to payment, but not to predict the sum amount.\n",
    "# since that we can create binary value of our ['revenue_d8'] column\n",
    "subs[\"converted\"] = (subs[\"revenue_d8\"].fillna(0) > 0).astype(int)"
   ]
  },
  {
   "cell_type": "code",
   "execution_count": null,
   "id": "503bb3cd",
   "metadata": {},
   "outputs": [],
   "source": [
    "subs = subs.drop(columns=[\n",
    "    \"first_transaction\",       # may cause leackage - event after conversion\n",
    "    \"trial_retention_at\",      # event after 7th day\n",
    "    \"first_autorenewal_off\",   # event after trial\n",
    "    \"first_subscription_type\", # may cause leackage - our target value may be interprated by this column causing high AUC \n",
    "    'first_marketplace',\n",
    "    'revenue_d8'               # as long as we created binary value, we dont need it anymore  \n",
    "], errors=\"ignore\")\n"
   ]
  },
  {
   "cell_type": "code",
   "execution_count": null,
   "id": "7c82e1e9",
   "metadata": {},
   "outputs": [
    {
     "data": {
      "text/html": [
       "<div>\n",
       "<style scoped>\n",
       "    .dataframe tbody tr th:only-of-type {\n",
       "        vertical-align: middle;\n",
       "    }\n",
       "\n",
       "    .dataframe tbody tr th {\n",
       "        vertical-align: top;\n",
       "    }\n",
       "\n",
       "    .dataframe thead th {\n",
       "        text-align: right;\n",
       "    }\n",
       "</style>\n",
       "<table border=\"1\" class=\"dataframe\">\n",
       "  <thead>\n",
       "    <tr style=\"text-align: right;\">\n",
       "      <th></th>\n",
       "      <th>user_id</th>\n",
       "      <th>trial_optin_at</th>\n",
       "      <th>converted</th>\n",
       "    </tr>\n",
       "  </thead>\n",
       "  <tbody>\n",
       "    <tr>\n",
       "      <th>0</th>\n",
       "      <td>624641c9d32d7a000c2c1996</td>\n",
       "      <td>2022-04-01 00:09:35.212</td>\n",
       "      <td>1</td>\n",
       "    </tr>\n",
       "    <tr>\n",
       "      <th>1</th>\n",
       "      <td>624641d4d32d7a000cc01dd3</td>\n",
       "      <td>2022-04-01 00:07:50.646</td>\n",
       "      <td>0</td>\n",
       "    </tr>\n",
       "    <tr>\n",
       "      <th>2</th>\n",
       "      <td>624649ffd32d7a000c88ac06</td>\n",
       "      <td>2022-04-01 00:43:20.381</td>\n",
       "      <td>0</td>\n",
       "    </tr>\n",
       "    <tr>\n",
       "      <th>3</th>\n",
       "      <td>6246505fd32d7a000ce56c6f</td>\n",
       "      <td>2022-04-01 01:10:32.74</td>\n",
       "      <td>1</td>\n",
       "    </tr>\n",
       "    <tr>\n",
       "      <th>4</th>\n",
       "      <td>624651b0d32d7a000f2b9ae7</td>\n",
       "      <td>2022-04-01 01:18:39.742</td>\n",
       "      <td>1</td>\n",
       "    </tr>\n",
       "  </tbody>\n",
       "</table>\n",
       "</div>"
      ],
      "text/plain": [
       "                    user_id           trial_optin_at  converted\n",
       "0  624641c9d32d7a000c2c1996  2022-04-01 00:09:35.212          1\n",
       "1  624641d4d32d7a000cc01dd3  2022-04-01 00:07:50.646          0\n",
       "2  624649ffd32d7a000c88ac06  2022-04-01 00:43:20.381          0\n",
       "3  6246505fd32d7a000ce56c6f   2022-04-01 01:10:32.74          1\n",
       "4  624651b0d32d7a000f2b9ae7  2022-04-01 01:18:39.742          1"
      ]
     },
     "execution_count": 9,
     "metadata": {},
     "output_type": "execute_result"
    }
   ],
   "source": [
    "# we finished with this table at this moment, so we can move on\n",
    "\n",
    "subs.head()"
   ]
  },
  {
   "cell_type": "code",
   "execution_count": null,
   "id": "6bbbfcfb",
   "metadata": {},
   "outputs": [
    {
     "data": {
      "text/html": [
       "<div>\n",
       "<style scoped>\n",
       "    .dataframe tbody tr th:only-of-type {\n",
       "        vertical-align: middle;\n",
       "    }\n",
       "\n",
       "    .dataframe tbody tr th {\n",
       "        vertical-align: top;\n",
       "    }\n",
       "\n",
       "    .dataframe thead th {\n",
       "        text-align: right;\n",
       "    }\n",
       "</style>\n",
       "<table border=\"1\" class=\"dataframe\">\n",
       "  <thead>\n",
       "    <tr style=\"text-align: right;\">\n",
       "      <th></th>\n",
       "      <th>user_id</th>\n",
       "      <th>signup_timestamp</th>\n",
       "      <th>country</th>\n",
       "      <th>signup_channel</th>\n",
       "      <th>signup_client_platform</th>\n",
       "    </tr>\n",
       "  </thead>\n",
       "  <tbody>\n",
       "    <tr>\n",
       "      <th>0</th>\n",
       "      <td>62464111d32d7a000b5ddccf</td>\n",
       "      <td>2022-04-01 00:02:26</td>\n",
       "      <td>us</td>\n",
       "      <td>organic</td>\n",
       "      <td>iOS</td>\n",
       "    </tr>\n",
       "    <tr>\n",
       "      <th>1</th>\n",
       "      <td>62464120d32d7a000ec025d9</td>\n",
       "      <td>2022-04-01 00:02:40</td>\n",
       "      <td>us</td>\n",
       "      <td>gsn</td>\n",
       "      <td>Web</td>\n",
       "    </tr>\n",
       "    <tr>\n",
       "      <th>2</th>\n",
       "      <td>624641a2d32d7a0010e5a976</td>\n",
       "      <td>2022-04-01 00:04:50</td>\n",
       "      <td>fr</td>\n",
       "      <td>uac</td>\n",
       "      <td>Android</td>\n",
       "    </tr>\n",
       "    <tr>\n",
       "      <th>3</th>\n",
       "      <td>624641a5d32d7a0010aca26f</td>\n",
       "      <td>2022-04-01 00:04:53</td>\n",
       "      <td>mx</td>\n",
       "      <td>affiliate</td>\n",
       "      <td>Web</td>\n",
       "    </tr>\n",
       "    <tr>\n",
       "      <th>4</th>\n",
       "      <td>624642f2d32d7a000fdfe79d</td>\n",
       "      <td>2022-04-01 00:10:26</td>\n",
       "      <td>us</td>\n",
       "      <td>facebook</td>\n",
       "      <td>iOS</td>\n",
       "    </tr>\n",
       "  </tbody>\n",
       "</table>\n",
       "</div>"
      ],
      "text/plain": [
       "                    user_id     signup_timestamp country signup_channel   \n",
       "0  62464111d32d7a000b5ddccf  2022-04-01 00:02:26      us        organic  \\\n",
       "1  62464120d32d7a000ec025d9  2022-04-01 00:02:40      us            gsn   \n",
       "2  624641a2d32d7a0010e5a976  2022-04-01 00:04:50      fr            uac   \n",
       "3  624641a5d32d7a0010aca26f  2022-04-01 00:04:53      mx      affiliate   \n",
       "4  624642f2d32d7a000fdfe79d  2022-04-01 00:10:26      us       facebook   \n",
       "\n",
       "  signup_client_platform  \n",
       "0                    iOS  \n",
       "1                    Web  \n",
       "2                Android  \n",
       "3                    Web  \n",
       "4                    iOS  "
      ]
     },
     "execution_count": 10,
     "metadata": {},
     "output_type": "execute_result"
    }
   ],
   "source": [
    "# user table is showing the information about our user\n",
    "\n",
    "user.head()"
   ]
  },
  {
   "cell_type": "code",
   "execution_count": null,
   "id": "0c549aa4",
   "metadata": {},
   "outputs": [
    {
     "name": "stdout",
     "output_type": "stream",
     "text": [
      "231\n",
      "607\n",
      "3\n"
     ]
    }
   ],
   "source": [
    "# these columns are categorial. to know the variety of categories in each column important for further encoding.\n",
    "# seems like OneHotEncoding and FrequencyEncoding would be the best options to operate with high cardinality data\n",
    "\n",
    "print(user['country'].value_counts(normalize=True).count())\n",
    "print(user['signup_channel'].value_counts(normalize=True).count())\n",
    "print(user['signup_client_platform'].value_counts(normalize=True).count())"
   ]
  },
  {
   "cell_type": "code",
   "execution_count": null,
   "id": "6abd7e19",
   "metadata": {},
   "outputs": [
    {
     "name": "stdout",
     "output_type": "stream",
     "text": [
      "(1087474, 5)\n",
      "<class 'pandas.core.frame.DataFrame'>\n",
      "RangeIndex: 1087474 entries, 0 to 1087473\n",
      "Data columns (total 5 columns):\n",
      " #   Column                  Non-Null Count    Dtype \n",
      "---  ------                  --------------    ----- \n",
      " 0   user_id                 1087474 non-null  object\n",
      " 1   signup_timestamp        1087474 non-null  object\n",
      " 2   country                 1087474 non-null  object\n",
      " 3   signup_channel          1087472 non-null  object\n",
      " 4   signup_client_platform  1080190 non-null  object\n",
      "dtypes: object(5)\n",
      "memory usage: 41.5+ MB\n",
      "None\n",
      "user_id                   0.000000\n",
      "signup_timestamp          0.000000\n",
      "country                   0.000000\n",
      "signup_channel            0.000002\n",
      "signup_client_platform    0.006698\n",
      "dtype: float64\n"
     ]
    }
   ],
   "source": [
    "print(user.shape)\n",
    "print(user.info())\n",
    "print(user.isnull().mean())\n",
    "\n",
    "# there are low % of n/a values in these table (less then 1% in signup_channel and signup_channel_platform), \n",
    "# so we can change it with value \"other\""
   ]
  },
  {
   "cell_type": "code",
   "execution_count": 13,
   "id": "9a92c76f",
   "metadata": {},
   "outputs": [],
   "source": [
    "user.fillna({\n",
    "    'signup_channel': 'other',\n",
    "    'signup_client_platform': 'other'\n",
    "}, inplace=True)"
   ]
  },
  {
   "cell_type": "code",
   "execution_count": null,
   "id": "4905b344",
   "metadata": {},
   "outputs": [
    {
     "data": {
      "text/html": [
       "<div>\n",
       "<style scoped>\n",
       "    .dataframe tbody tr th:only-of-type {\n",
       "        vertical-align: middle;\n",
       "    }\n",
       "\n",
       "    .dataframe tbody tr th {\n",
       "        vertical-align: top;\n",
       "    }\n",
       "\n",
       "    .dataframe thead th {\n",
       "        text-align: right;\n",
       "    }\n",
       "</style>\n",
       "<table border=\"1\" class=\"dataframe\">\n",
       "  <thead>\n",
       "    <tr style=\"text-align: right;\">\n",
       "      <th></th>\n",
       "      <th>user_id</th>\n",
       "      <th>trial_optin_at</th>\n",
       "      <th>converted</th>\n",
       "      <th>signup_timestamp</th>\n",
       "      <th>country</th>\n",
       "      <th>signup_channel</th>\n",
       "      <th>signup_client_platform</th>\n",
       "    </tr>\n",
       "  </thead>\n",
       "  <tbody>\n",
       "    <tr>\n",
       "      <th>0</th>\n",
       "      <td>624641c9d32d7a000c2c1996</td>\n",
       "      <td>2022-04-01 00:09:35.212</td>\n",
       "      <td>1</td>\n",
       "      <td>2022-04-01 00:05:29</td>\n",
       "      <td>us</td>\n",
       "      <td>gsn</td>\n",
       "      <td>Web</td>\n",
       "    </tr>\n",
       "    <tr>\n",
       "      <th>1</th>\n",
       "      <td>624641d4d32d7a000cc01dd3</td>\n",
       "      <td>2022-04-01 00:07:50.646</td>\n",
       "      <td>0</td>\n",
       "      <td>2022-04-01 00:05:40</td>\n",
       "      <td>de</td>\n",
       "      <td>gsn</td>\n",
       "      <td>Android</td>\n",
       "    </tr>\n",
       "    <tr>\n",
       "      <th>2</th>\n",
       "      <td>624649ffd32d7a000c88ac06</td>\n",
       "      <td>2022-04-01 00:43:20.381</td>\n",
       "      <td>0</td>\n",
       "      <td>2022-04-01 00:40:31</td>\n",
       "      <td>us</td>\n",
       "      <td>organic</td>\n",
       "      <td>Web</td>\n",
       "    </tr>\n",
       "    <tr>\n",
       "      <th>3</th>\n",
       "      <td>6246505fd32d7a000ce56c6f</td>\n",
       "      <td>2022-04-01 01:10:32.74</td>\n",
       "      <td>1</td>\n",
       "      <td>2022-04-01 01:07:43</td>\n",
       "      <td>us</td>\n",
       "      <td>organic</td>\n",
       "      <td>iOS</td>\n",
       "    </tr>\n",
       "    <tr>\n",
       "      <th>4</th>\n",
       "      <td>624651b0d32d7a000f2b9ae7</td>\n",
       "      <td>2022-04-01 01:18:39.742</td>\n",
       "      <td>1</td>\n",
       "      <td>2022-04-01 01:13:20</td>\n",
       "      <td>us</td>\n",
       "      <td>uac</td>\n",
       "      <td>Android</td>\n",
       "    </tr>\n",
       "  </tbody>\n",
       "</table>\n",
       "</div>"
      ],
      "text/plain": [
       "                    user_id           trial_optin_at  converted   \n",
       "0  624641c9d32d7a000c2c1996  2022-04-01 00:09:35.212          1  \\\n",
       "1  624641d4d32d7a000cc01dd3  2022-04-01 00:07:50.646          0   \n",
       "2  624649ffd32d7a000c88ac06  2022-04-01 00:43:20.381          0   \n",
       "3  6246505fd32d7a000ce56c6f   2022-04-01 01:10:32.74          1   \n",
       "4  624651b0d32d7a000f2b9ae7  2022-04-01 01:18:39.742          1   \n",
       "\n",
       "      signup_timestamp country signup_channel signup_client_platform  \n",
       "0  2022-04-01 00:05:29      us            gsn                    Web  \n",
       "1  2022-04-01 00:05:40      de            gsn                Android  \n",
       "2  2022-04-01 00:40:31      us        organic                    Web  \n",
       "3  2022-04-01 01:07:43      us        organic                    iOS  \n",
       "4  2022-04-01 01:13:20      us            uac                Android  "
      ]
     },
     "execution_count": 14,
     "metadata": {},
     "output_type": "execute_result"
    }
   ],
   "source": [
    "# the table is fine, so we can merge it\n",
    "\n",
    "df1 = subs.merge(user, on=\"user_id\", how=\"inner\")\n",
    "df1.head()"
   ]
  },
  {
   "cell_type": "code",
   "execution_count": 15,
   "id": "d2b346db",
   "metadata": {},
   "outputs": [
    {
     "data": {
      "text/html": [
       "<div>\n",
       "<style scoped>\n",
       "    .dataframe tbody tr th:only-of-type {\n",
       "        vertical-align: middle;\n",
       "    }\n",
       "\n",
       "    .dataframe tbody tr th {\n",
       "        vertical-align: top;\n",
       "    }\n",
       "\n",
       "    .dataframe thead th {\n",
       "        text-align: right;\n",
       "    }\n",
       "</style>\n",
       "<table border=\"1\" class=\"dataframe\">\n",
       "  <thead>\n",
       "    <tr style=\"text-align: right;\">\n",
       "      <th></th>\n",
       "      <th>user_id</th>\n",
       "      <th>dim_date_id</th>\n",
       "      <th>is_bib_active</th>\n",
       "      <th>is_episode_active</th>\n",
       "    </tr>\n",
       "  </thead>\n",
       "  <tbody>\n",
       "    <tr>\n",
       "      <th>0</th>\n",
       "      <td>6246877ed32d7a000fa73e8d</td>\n",
       "      <td>2022-04-01</td>\n",
       "      <td>True</td>\n",
       "      <td>False</td>\n",
       "    </tr>\n",
       "    <tr>\n",
       "      <th>1</th>\n",
       "      <td>62474f4ed32d7a000c8b5e06</td>\n",
       "      <td>2022-04-06</td>\n",
       "      <td>True</td>\n",
       "      <td>False</td>\n",
       "    </tr>\n",
       "    <tr>\n",
       "      <th>2</th>\n",
       "      <td>62474f4ed32d7a000c8b5e06</td>\n",
       "      <td>2022-04-04</td>\n",
       "      <td>True</td>\n",
       "      <td>False</td>\n",
       "    </tr>\n",
       "    <tr>\n",
       "      <th>3</th>\n",
       "      <td>62474f4ed32d7a000c8b5e06</td>\n",
       "      <td>2022-04-02</td>\n",
       "      <td>True</td>\n",
       "      <td>False</td>\n",
       "    </tr>\n",
       "    <tr>\n",
       "      <th>4</th>\n",
       "      <td>62474f4ed32d7a000c8b5e06</td>\n",
       "      <td>2022-04-01</td>\n",
       "      <td>True</td>\n",
       "      <td>False</td>\n",
       "    </tr>\n",
       "  </tbody>\n",
       "</table>\n",
       "</div>"
      ],
      "text/plain": [
       "                    user_id dim_date_id  is_bib_active  is_episode_active\n",
       "0  6246877ed32d7a000fa73e8d  2022-04-01           True              False\n",
       "1  62474f4ed32d7a000c8b5e06  2022-04-06           True              False\n",
       "2  62474f4ed32d7a000c8b5e06  2022-04-04           True              False\n",
       "3  62474f4ed32d7a000c8b5e06  2022-04-02           True              False\n",
       "4  62474f4ed32d7a000c8b5e06  2022-04-01           True              False"
      ]
     },
     "execution_count": 15,
     "metadata": {},
     "output_type": "execute_result"
    }
   ],
   "source": [
    "# now we can move to the final table - 'event'\n",
    "\n",
    "event.head()"
   ]
  },
  {
   "cell_type": "code",
   "execution_count": 16,
   "id": "a53c8d44",
   "metadata": {},
   "outputs": [],
   "source": [
    "# the idea behind is next - we have pretty much duplicates in the 'event' df coz of the nature of tracking events data\n",
    "# so we have to merge ''signup_timestamp', convert all date data to datetime\n",
    "# then we want to get day diff, so we can understand how many events have user on each day.\n",
    "# for our task we have to predict the onversion to payment on the first day, but in case the results \n",
    "# would be bad, we already would have all the neccessary data for the furthere predictions.\n",
    "# for this operations we going to use pivot table, to make it simplier\n",
    "# the same stuff we will make with column 'trial_optin_at'\n",
    "\n",
    "event = event.merge(user[['user_id','signup_timestamp']], on='user_id', how='left')\n",
    "event['dim_ts'] = pd.to_datetime(event['dim_date_id'], errors='coerce')\n",
    "event['signup_ts'] = pd.to_datetime(event['signup_timestamp'], errors='coerce')"
   ]
  },
  {
   "cell_type": "code",
   "execution_count": 17,
   "id": "50f3b6c4",
   "metadata": {},
   "outputs": [],
   "source": [
    "event['day_no'] = (event['dim_ts'] - event['signup_ts']).dt.days"
   ]
  },
  {
   "cell_type": "code",
   "execution_count": 18,
   "id": "cbf8e2e5",
   "metadata": {},
   "outputs": [],
   "source": [
    "ev8 = event.query('0 <= day_no < 8').copy()"
   ]
  },
  {
   "cell_type": "code",
   "execution_count": null,
   "id": "0da06d85",
   "metadata": {},
   "outputs": [],
   "source": [
    "# lets convert the boolean value to binary\n",
    "\n",
    "ev8['bib_int']     = ev8['is_bib_active'].astype(int)\n",
    "ev8['episode_int'] = ev8['is_episode_active'].astype(int)"
   ]
  },
  {
   "cell_type": "code",
   "execution_count": null,
   "id": "657bb658",
   "metadata": {},
   "outputs": [],
   "source": [
    "# the idea here is to aggregate user activity by day: we sum up bib_int and episode_int per user_id & day_no\n",
    "# first we group ev8 by ['user_id','day_no'] and compute bib_count=('bib_int','sum') and episode_count=('episode_int','sum')\n",
    "# then we pivot so that each user_id is a row, and for each day_no we get two columns: bib_count and episode_count\n",
    "# we rename the multi‐index columns into flat names bib_day{n} and episode_day{n} for clarity and ease of use\n",
    "# lastly, we replace all NaN with 0 and cast to int so there are no missing values and counts remain integers\n",
    "\n",
    "\n",
    "agg = (\n",
    "    ev8\n",
    "    .groupby(['user_id','day_no'], as_index=False)\n",
    "    .agg(\n",
    "        bib_count     = ('bib_int',     'sum'),\n",
    "        episode_count = ('episode_int', 'sum')\n",
    "    )\n",
    ")"
   ]
  },
  {
   "cell_type": "code",
   "execution_count": 21,
   "id": "9b7eff39",
   "metadata": {},
   "outputs": [],
   "source": [
    "pivot = agg.pivot(index='user_id', columns='day_no')[['bib_count','episode_count']]"
   ]
  },
  {
   "cell_type": "code",
   "execution_count": 22,
   "id": "48f46754",
   "metadata": {},
   "outputs": [],
   "source": [
    "pivot.columns = [\n",
    "    f\"bib_day{day}\"     if metric=='bib_count'\n",
    "    else f\"episode_day{day}\"\n",
    "    for metric, day in pivot.columns\n",
    "]"
   ]
  },
  {
   "cell_type": "code",
   "execution_count": 23,
   "id": "6e323951",
   "metadata": {},
   "outputs": [
    {
     "data": {
      "text/html": [
       "<div>\n",
       "<style scoped>\n",
       "    .dataframe tbody tr th:only-of-type {\n",
       "        vertical-align: middle;\n",
       "    }\n",
       "\n",
       "    .dataframe tbody tr th {\n",
       "        vertical-align: top;\n",
       "    }\n",
       "\n",
       "    .dataframe thead th {\n",
       "        text-align: right;\n",
       "    }\n",
       "</style>\n",
       "<table border=\"1\" class=\"dataframe\">\n",
       "  <thead>\n",
       "    <tr style=\"text-align: right;\">\n",
       "      <th></th>\n",
       "      <th>bib_day0</th>\n",
       "      <th>bib_day1</th>\n",
       "      <th>bib_day2</th>\n",
       "      <th>bib_day3</th>\n",
       "      <th>bib_day4</th>\n",
       "      <th>bib_day5</th>\n",
       "      <th>bib_day6</th>\n",
       "      <th>bib_day7</th>\n",
       "      <th>episode_day0</th>\n",
       "      <th>episode_day1</th>\n",
       "      <th>episode_day2</th>\n",
       "      <th>episode_day3</th>\n",
       "      <th>episode_day4</th>\n",
       "      <th>episode_day5</th>\n",
       "      <th>episode_day6</th>\n",
       "      <th>episode_day7</th>\n",
       "    </tr>\n",
       "    <tr>\n",
       "      <th>user_id</th>\n",
       "      <th></th>\n",
       "      <th></th>\n",
       "      <th></th>\n",
       "      <th></th>\n",
       "      <th></th>\n",
       "      <th></th>\n",
       "      <th></th>\n",
       "      <th></th>\n",
       "      <th></th>\n",
       "      <th></th>\n",
       "      <th></th>\n",
       "      <th></th>\n",
       "      <th></th>\n",
       "      <th></th>\n",
       "      <th></th>\n",
       "      <th></th>\n",
       "    </tr>\n",
       "  </thead>\n",
       "  <tbody>\n",
       "    <tr>\n",
       "      <th>62464111d32d7a000b5ddccf</th>\n",
       "      <td>NaN</td>\n",
       "      <td>NaN</td>\n",
       "      <td>1.0</td>\n",
       "      <td>NaN</td>\n",
       "      <td>NaN</td>\n",
       "      <td>NaN</td>\n",
       "      <td>NaN</td>\n",
       "      <td>NaN</td>\n",
       "      <td>NaN</td>\n",
       "      <td>NaN</td>\n",
       "      <td>0.0</td>\n",
       "      <td>NaN</td>\n",
       "      <td>NaN</td>\n",
       "      <td>NaN</td>\n",
       "      <td>NaN</td>\n",
       "      <td>NaN</td>\n",
       "    </tr>\n",
       "    <tr>\n",
       "      <th>624641d4d32d7a000cc01dd3</th>\n",
       "      <td>1.0</td>\n",
       "      <td>NaN</td>\n",
       "      <td>NaN</td>\n",
       "      <td>NaN</td>\n",
       "      <td>NaN</td>\n",
       "      <td>NaN</td>\n",
       "      <td>NaN</td>\n",
       "      <td>NaN</td>\n",
       "      <td>0.0</td>\n",
       "      <td>NaN</td>\n",
       "      <td>NaN</td>\n",
       "      <td>NaN</td>\n",
       "      <td>NaN</td>\n",
       "      <td>NaN</td>\n",
       "      <td>NaN</td>\n",
       "      <td>NaN</td>\n",
       "    </tr>\n",
       "    <tr>\n",
       "      <th>62464207d32d7a0010c030c5</th>\n",
       "      <td>NaN</td>\n",
       "      <td>1.0</td>\n",
       "      <td>1.0</td>\n",
       "      <td>NaN</td>\n",
       "      <td>1.0</td>\n",
       "      <td>NaN</td>\n",
       "      <td>NaN</td>\n",
       "      <td>NaN</td>\n",
       "      <td>NaN</td>\n",
       "      <td>0.0</td>\n",
       "      <td>0.0</td>\n",
       "      <td>NaN</td>\n",
       "      <td>0.0</td>\n",
       "      <td>NaN</td>\n",
       "      <td>NaN</td>\n",
       "      <td>NaN</td>\n",
       "    </tr>\n",
       "    <tr>\n",
       "      <th>6246427cd32d7a000e1bdb16</th>\n",
       "      <td>1.0</td>\n",
       "      <td>NaN</td>\n",
       "      <td>1.0</td>\n",
       "      <td>1.0</td>\n",
       "      <td>1.0</td>\n",
       "      <td>1.0</td>\n",
       "      <td>NaN</td>\n",
       "      <td>1.0</td>\n",
       "      <td>1.0</td>\n",
       "      <td>NaN</td>\n",
       "      <td>0.0</td>\n",
       "      <td>0.0</td>\n",
       "      <td>0.0</td>\n",
       "      <td>0.0</td>\n",
       "      <td>NaN</td>\n",
       "      <td>0.0</td>\n",
       "    </tr>\n",
       "    <tr>\n",
       "      <th>6246430ad32d7a000f93c4f9</th>\n",
       "      <td>NaN</td>\n",
       "      <td>NaN</td>\n",
       "      <td>NaN</td>\n",
       "      <td>NaN</td>\n",
       "      <td>1.0</td>\n",
       "      <td>NaN</td>\n",
       "      <td>1.0</td>\n",
       "      <td>NaN</td>\n",
       "      <td>NaN</td>\n",
       "      <td>NaN</td>\n",
       "      <td>NaN</td>\n",
       "      <td>NaN</td>\n",
       "      <td>0.0</td>\n",
       "      <td>NaN</td>\n",
       "      <td>0.0</td>\n",
       "      <td>NaN</td>\n",
       "    </tr>\n",
       "  </tbody>\n",
       "</table>\n",
       "</div>"
      ],
      "text/plain": [
       "                          bib_day0  bib_day1  bib_day2  bib_day3  bib_day4   \n",
       "user_id                                                                      \n",
       "62464111d32d7a000b5ddccf       NaN       NaN       1.0       NaN       NaN  \\\n",
       "624641d4d32d7a000cc01dd3       1.0       NaN       NaN       NaN       NaN   \n",
       "62464207d32d7a0010c030c5       NaN       1.0       1.0       NaN       1.0   \n",
       "6246427cd32d7a000e1bdb16       1.0       NaN       1.0       1.0       1.0   \n",
       "6246430ad32d7a000f93c4f9       NaN       NaN       NaN       NaN       1.0   \n",
       "\n",
       "                          bib_day5  bib_day6  bib_day7  episode_day0   \n",
       "user_id                                                                \n",
       "62464111d32d7a000b5ddccf       NaN       NaN       NaN           NaN  \\\n",
       "624641d4d32d7a000cc01dd3       NaN       NaN       NaN           0.0   \n",
       "62464207d32d7a0010c030c5       NaN       NaN       NaN           NaN   \n",
       "6246427cd32d7a000e1bdb16       1.0       NaN       1.0           1.0   \n",
       "6246430ad32d7a000f93c4f9       NaN       1.0       NaN           NaN   \n",
       "\n",
       "                          episode_day1  episode_day2  episode_day3   \n",
       "user_id                                                              \n",
       "62464111d32d7a000b5ddccf           NaN           0.0           NaN  \\\n",
       "624641d4d32d7a000cc01dd3           NaN           NaN           NaN   \n",
       "62464207d32d7a0010c030c5           0.0           0.0           NaN   \n",
       "6246427cd32d7a000e1bdb16           NaN           0.0           0.0   \n",
       "6246430ad32d7a000f93c4f9           NaN           NaN           NaN   \n",
       "\n",
       "                          episode_day4  episode_day5  episode_day6   \n",
       "user_id                                                              \n",
       "62464111d32d7a000b5ddccf           NaN           NaN           NaN  \\\n",
       "624641d4d32d7a000cc01dd3           NaN           NaN           NaN   \n",
       "62464207d32d7a0010c030c5           0.0           NaN           NaN   \n",
       "6246427cd32d7a000e1bdb16           0.0           0.0           NaN   \n",
       "6246430ad32d7a000f93c4f9           0.0           NaN           0.0   \n",
       "\n",
       "                          episode_day7  \n",
       "user_id                                 \n",
       "62464111d32d7a000b5ddccf           NaN  \n",
       "624641d4d32d7a000cc01dd3           NaN  \n",
       "62464207d32d7a0010c030c5           NaN  \n",
       "6246427cd32d7a000e1bdb16           0.0  \n",
       "6246430ad32d7a000f93c4f9           NaN  "
      ]
     },
     "execution_count": 23,
     "metadata": {},
     "output_type": "execute_result"
    }
   ],
   "source": [
    "pivot.head()"
   ]
  },
  {
   "cell_type": "code",
   "execution_count": 24,
   "id": "f5f04121",
   "metadata": {},
   "outputs": [],
   "source": [
    "pivot = pivot.fillna(0).astype(int)"
   ]
  },
  {
   "cell_type": "code",
   "execution_count": 25,
   "id": "f4c3a9ba",
   "metadata": {},
   "outputs": [],
   "source": [
    "# now it seems pretty decent. however, I prefer to find cumulative sum of events by each day, as it\n",
    "# much simplier for the further interpritation"
   ]
  },
  {
   "cell_type": "code",
   "execution_count": null,
   "id": "4fa19a77",
   "metadata": {},
   "outputs": [],
   "source": [
    "# isolate and sort the bib/episode columns\n",
    "bib_cols   = [f\"bib_day{d}\"     for d in range(8)]\n",
    "epi_cols   = [f\"episode_day{d}\" for d in range(8)]"
   ]
  },
  {
   "cell_type": "code",
   "execution_count": 27,
   "id": "513c14ad",
   "metadata": {},
   "outputs": [],
   "source": [
    "bib_cum = pivot[bib_cols].cumsum(axis=1)\n",
    "epi_cum = pivot[epi_cols].cumsum(axis=1)\n"
   ]
  },
  {
   "cell_type": "code",
   "execution_count": 28,
   "id": "960a20d3",
   "metadata": {},
   "outputs": [],
   "source": [
    "bib_cum.columns = [f\"bib_day{d}\"     for d in range(8)]\n",
    "epi_cum.columns = [f\"episode_day{d}\" for d in range(8)]"
   ]
  },
  {
   "cell_type": "code",
   "execution_count": 29,
   "id": "1d10841a",
   "metadata": {},
   "outputs": [],
   "source": [
    "pivot_cum = pivot.drop(columns=bib_cols+epi_cols)\\\n",
    "                 .merge(bib_cum, on='user_id')\\\n",
    "                 .merge(epi_cum, on='user_id')\n"
   ]
  },
  {
   "cell_type": "code",
   "execution_count": 30,
   "id": "90bf5869",
   "metadata": {},
   "outputs": [],
   "source": [
    "df = df1.merge(pivot_cum, on='user_id', how='left').fillna(0)"
   ]
  },
  {
   "cell_type": "code",
   "execution_count": 31,
   "id": "2db1bb74",
   "metadata": {},
   "outputs": [
    {
     "data": {
      "text/html": [
       "<div>\n",
       "<style scoped>\n",
       "    .dataframe tbody tr th:only-of-type {\n",
       "        vertical-align: middle;\n",
       "    }\n",
       "\n",
       "    .dataframe tbody tr th {\n",
       "        vertical-align: top;\n",
       "    }\n",
       "\n",
       "    .dataframe thead th {\n",
       "        text-align: right;\n",
       "    }\n",
       "</style>\n",
       "<table border=\"1\" class=\"dataframe\">\n",
       "  <thead>\n",
       "    <tr style=\"text-align: right;\">\n",
       "      <th></th>\n",
       "      <th>user_id</th>\n",
       "      <th>trial_optin_at</th>\n",
       "      <th>converted</th>\n",
       "      <th>signup_timestamp</th>\n",
       "      <th>country</th>\n",
       "      <th>signup_channel</th>\n",
       "      <th>signup_client_platform</th>\n",
       "      <th>bib_day0</th>\n",
       "      <th>bib_day1</th>\n",
       "      <th>bib_day2</th>\n",
       "      <th>...</th>\n",
       "      <th>bib_day6</th>\n",
       "      <th>bib_day7</th>\n",
       "      <th>episode_day0</th>\n",
       "      <th>episode_day1</th>\n",
       "      <th>episode_day2</th>\n",
       "      <th>episode_day3</th>\n",
       "      <th>episode_day4</th>\n",
       "      <th>episode_day5</th>\n",
       "      <th>episode_day6</th>\n",
       "      <th>episode_day7</th>\n",
       "    </tr>\n",
       "  </thead>\n",
       "  <tbody>\n",
       "    <tr>\n",
       "      <th>0</th>\n",
       "      <td>624641c9d32d7a000c2c1996</td>\n",
       "      <td>2022-04-01 00:09:35.212</td>\n",
       "      <td>1</td>\n",
       "      <td>2022-04-01 00:05:29</td>\n",
       "      <td>us</td>\n",
       "      <td>gsn</td>\n",
       "      <td>Web</td>\n",
       "      <td>0.0</td>\n",
       "      <td>0.0</td>\n",
       "      <td>0.0</td>\n",
       "      <td>...</td>\n",
       "      <td>0.0</td>\n",
       "      <td>0.0</td>\n",
       "      <td>0.0</td>\n",
       "      <td>0.0</td>\n",
       "      <td>0.0</td>\n",
       "      <td>0.0</td>\n",
       "      <td>0.0</td>\n",
       "      <td>0.0</td>\n",
       "      <td>0.0</td>\n",
       "      <td>0.0</td>\n",
       "    </tr>\n",
       "    <tr>\n",
       "      <th>1</th>\n",
       "      <td>624641d4d32d7a000cc01dd3</td>\n",
       "      <td>2022-04-01 00:07:50.646</td>\n",
       "      <td>0</td>\n",
       "      <td>2022-04-01 00:05:40</td>\n",
       "      <td>de</td>\n",
       "      <td>gsn</td>\n",
       "      <td>Android</td>\n",
       "      <td>1.0</td>\n",
       "      <td>1.0</td>\n",
       "      <td>1.0</td>\n",
       "      <td>...</td>\n",
       "      <td>1.0</td>\n",
       "      <td>1.0</td>\n",
       "      <td>0.0</td>\n",
       "      <td>0.0</td>\n",
       "      <td>0.0</td>\n",
       "      <td>0.0</td>\n",
       "      <td>0.0</td>\n",
       "      <td>0.0</td>\n",
       "      <td>0.0</td>\n",
       "      <td>0.0</td>\n",
       "    </tr>\n",
       "    <tr>\n",
       "      <th>2</th>\n",
       "      <td>624649ffd32d7a000c88ac06</td>\n",
       "      <td>2022-04-01 00:43:20.381</td>\n",
       "      <td>0</td>\n",
       "      <td>2022-04-01 00:40:31</td>\n",
       "      <td>us</td>\n",
       "      <td>organic</td>\n",
       "      <td>Web</td>\n",
       "      <td>0.0</td>\n",
       "      <td>0.0</td>\n",
       "      <td>0.0</td>\n",
       "      <td>...</td>\n",
       "      <td>0.0</td>\n",
       "      <td>0.0</td>\n",
       "      <td>0.0</td>\n",
       "      <td>0.0</td>\n",
       "      <td>0.0</td>\n",
       "      <td>0.0</td>\n",
       "      <td>0.0</td>\n",
       "      <td>0.0</td>\n",
       "      <td>0.0</td>\n",
       "      <td>0.0</td>\n",
       "    </tr>\n",
       "    <tr>\n",
       "      <th>3</th>\n",
       "      <td>6246505fd32d7a000ce56c6f</td>\n",
       "      <td>2022-04-01 01:10:32.74</td>\n",
       "      <td>1</td>\n",
       "      <td>2022-04-01 01:07:43</td>\n",
       "      <td>us</td>\n",
       "      <td>organic</td>\n",
       "      <td>iOS</td>\n",
       "      <td>0.0</td>\n",
       "      <td>0.0</td>\n",
       "      <td>0.0</td>\n",
       "      <td>...</td>\n",
       "      <td>0.0</td>\n",
       "      <td>0.0</td>\n",
       "      <td>0.0</td>\n",
       "      <td>0.0</td>\n",
       "      <td>0.0</td>\n",
       "      <td>0.0</td>\n",
       "      <td>0.0</td>\n",
       "      <td>0.0</td>\n",
       "      <td>0.0</td>\n",
       "      <td>0.0</td>\n",
       "    </tr>\n",
       "    <tr>\n",
       "      <th>4</th>\n",
       "      <td>624651b0d32d7a000f2b9ae7</td>\n",
       "      <td>2022-04-01 01:18:39.742</td>\n",
       "      <td>1</td>\n",
       "      <td>2022-04-01 01:13:20</td>\n",
       "      <td>us</td>\n",
       "      <td>uac</td>\n",
       "      <td>Android</td>\n",
       "      <td>1.0</td>\n",
       "      <td>1.0</td>\n",
       "      <td>1.0</td>\n",
       "      <td>...</td>\n",
       "      <td>1.0</td>\n",
       "      <td>1.0</td>\n",
       "      <td>0.0</td>\n",
       "      <td>0.0</td>\n",
       "      <td>0.0</td>\n",
       "      <td>0.0</td>\n",
       "      <td>0.0</td>\n",
       "      <td>0.0</td>\n",
       "      <td>0.0</td>\n",
       "      <td>0.0</td>\n",
       "    </tr>\n",
       "  </tbody>\n",
       "</table>\n",
       "<p>5 rows × 23 columns</p>\n",
       "</div>"
      ],
      "text/plain": [
       "                    user_id           trial_optin_at  converted   \n",
       "0  624641c9d32d7a000c2c1996  2022-04-01 00:09:35.212          1  \\\n",
       "1  624641d4d32d7a000cc01dd3  2022-04-01 00:07:50.646          0   \n",
       "2  624649ffd32d7a000c88ac06  2022-04-01 00:43:20.381          0   \n",
       "3  6246505fd32d7a000ce56c6f   2022-04-01 01:10:32.74          1   \n",
       "4  624651b0d32d7a000f2b9ae7  2022-04-01 01:18:39.742          1   \n",
       "\n",
       "      signup_timestamp country signup_channel signup_client_platform   \n",
       "0  2022-04-01 00:05:29      us            gsn                    Web  \\\n",
       "1  2022-04-01 00:05:40      de            gsn                Android   \n",
       "2  2022-04-01 00:40:31      us        organic                    Web   \n",
       "3  2022-04-01 01:07:43      us        organic                    iOS   \n",
       "4  2022-04-01 01:13:20      us            uac                Android   \n",
       "\n",
       "   bib_day0  bib_day1  bib_day2  ...  bib_day6  bib_day7  episode_day0   \n",
       "0       0.0       0.0       0.0  ...       0.0       0.0           0.0  \\\n",
       "1       1.0       1.0       1.0  ...       1.0       1.0           0.0   \n",
       "2       0.0       0.0       0.0  ...       0.0       0.0           0.0   \n",
       "3       0.0       0.0       0.0  ...       0.0       0.0           0.0   \n",
       "4       1.0       1.0       1.0  ...       1.0       1.0           0.0   \n",
       "\n",
       "   episode_day1  episode_day2  episode_day3  episode_day4  episode_day5   \n",
       "0           0.0           0.0           0.0           0.0           0.0  \\\n",
       "1           0.0           0.0           0.0           0.0           0.0   \n",
       "2           0.0           0.0           0.0           0.0           0.0   \n",
       "3           0.0           0.0           0.0           0.0           0.0   \n",
       "4           0.0           0.0           0.0           0.0           0.0   \n",
       "\n",
       "   episode_day6  episode_day7  \n",
       "0           0.0           0.0  \n",
       "1           0.0           0.0  \n",
       "2           0.0           0.0  \n",
       "3           0.0           0.0  \n",
       "4           0.0           0.0  \n",
       "\n",
       "[5 rows x 23 columns]"
      ]
     },
     "execution_count": 31,
     "metadata": {},
     "output_type": "execute_result"
    }
   ],
   "source": [
    "df.head()"
   ]
  },
  {
   "cell_type": "code",
   "execution_count": null,
   "id": "9f0fde84",
   "metadata": {},
   "outputs": [],
   "source": [
    "# convert the raw timestamp strings into datetime objects (coercing any bad values to NaT)\n",
    "# drop the original 'trial_optin_at' and 'signup_timestamp' columns now that we have their datetime versions\n",
    "# compute 'days_to_trial' as the difference in calendar days between trial opt-in and signup\n",
    "# this tells us how many days each user waited before starting their trial\n",
    "\n",
    "df['trial_ts'] = pd.to_datetime(df['trial_optin_at'], errors='coerce')\n",
    "df['signup_ts'] = pd.to_datetime(df['signup_timestamp'], errors='coerce')\n",
    "df = df.drop(columns = ['trial_optin_at','signup_timestamp'])\n",
    "df['days_to_trial'] = (df['trial_ts']-df['signup_ts']).dt.days"
   ]
  },
  {
   "cell_type": "code",
   "execution_count": null,
   "id": "381c4f1a",
   "metadata": {},
   "outputs": [],
   "source": [
    "for d in range(1, 9):\n",
    "    df[f'trial_day{d}'] = (\n",
    "        df['days_to_trial'] == (d - 1)\n",
    "    ).astype(int)"
   ]
  },
  {
   "cell_type": "code",
   "execution_count": 84,
   "id": "72470038",
   "metadata": {},
   "outputs": [
    {
     "data": {
      "text/html": [
       "<div>\n",
       "<style scoped>\n",
       "    .dataframe tbody tr th:only-of-type {\n",
       "        vertical-align: middle;\n",
       "    }\n",
       "\n",
       "    .dataframe tbody tr th {\n",
       "        vertical-align: top;\n",
       "    }\n",
       "\n",
       "    .dataframe thead th {\n",
       "        text-align: right;\n",
       "    }\n",
       "</style>\n",
       "<table border=\"1\" class=\"dataframe\">\n",
       "  <thead>\n",
       "    <tr style=\"text-align: right;\">\n",
       "      <th></th>\n",
       "      <th>user_id</th>\n",
       "      <th>converted</th>\n",
       "      <th>country</th>\n",
       "      <th>signup_channel</th>\n",
       "      <th>signup_client_platform</th>\n",
       "      <th>bib_day0</th>\n",
       "      <th>bib_day1</th>\n",
       "      <th>bib_day2</th>\n",
       "      <th>bib_day3</th>\n",
       "      <th>bib_day4</th>\n",
       "      <th>...</th>\n",
       "      <th>days_to_trial</th>\n",
       "      <th>trial_day1</th>\n",
       "      <th>trial_day2</th>\n",
       "      <th>trial_day3</th>\n",
       "      <th>trial_day4</th>\n",
       "      <th>trial_day5</th>\n",
       "      <th>trial_day6</th>\n",
       "      <th>trial_day7</th>\n",
       "      <th>trial_day8</th>\n",
       "      <th>trial_day0</th>\n",
       "    </tr>\n",
       "  </thead>\n",
       "  <tbody>\n",
       "    <tr>\n",
       "      <th>0</th>\n",
       "      <td>624641c9d32d7a000c2c1996</td>\n",
       "      <td>1</td>\n",
       "      <td>us</td>\n",
       "      <td>gsn</td>\n",
       "      <td>Web</td>\n",
       "      <td>0.0</td>\n",
       "      <td>0.0</td>\n",
       "      <td>0.0</td>\n",
       "      <td>0.0</td>\n",
       "      <td>0.0</td>\n",
       "      <td>...</td>\n",
       "      <td>0.0</td>\n",
       "      <td>1</td>\n",
       "      <td>0</td>\n",
       "      <td>0</td>\n",
       "      <td>0</td>\n",
       "      <td>0</td>\n",
       "      <td>0</td>\n",
       "      <td>0</td>\n",
       "      <td>0</td>\n",
       "      <td>1</td>\n",
       "    </tr>\n",
       "    <tr>\n",
       "      <th>1</th>\n",
       "      <td>624641d4d32d7a000cc01dd3</td>\n",
       "      <td>0</td>\n",
       "      <td>de</td>\n",
       "      <td>gsn</td>\n",
       "      <td>Android</td>\n",
       "      <td>1.0</td>\n",
       "      <td>1.0</td>\n",
       "      <td>1.0</td>\n",
       "      <td>1.0</td>\n",
       "      <td>1.0</td>\n",
       "      <td>...</td>\n",
       "      <td>0.0</td>\n",
       "      <td>1</td>\n",
       "      <td>0</td>\n",
       "      <td>0</td>\n",
       "      <td>0</td>\n",
       "      <td>0</td>\n",
       "      <td>0</td>\n",
       "      <td>0</td>\n",
       "      <td>0</td>\n",
       "      <td>1</td>\n",
       "    </tr>\n",
       "    <tr>\n",
       "      <th>2</th>\n",
       "      <td>624649ffd32d7a000c88ac06</td>\n",
       "      <td>0</td>\n",
       "      <td>us</td>\n",
       "      <td>organic</td>\n",
       "      <td>Web</td>\n",
       "      <td>0.0</td>\n",
       "      <td>0.0</td>\n",
       "      <td>0.0</td>\n",
       "      <td>0.0</td>\n",
       "      <td>0.0</td>\n",
       "      <td>...</td>\n",
       "      <td>0.0</td>\n",
       "      <td>1</td>\n",
       "      <td>0</td>\n",
       "      <td>0</td>\n",
       "      <td>0</td>\n",
       "      <td>0</td>\n",
       "      <td>0</td>\n",
       "      <td>0</td>\n",
       "      <td>0</td>\n",
       "      <td>1</td>\n",
       "    </tr>\n",
       "    <tr>\n",
       "      <th>3</th>\n",
       "      <td>6246505fd32d7a000ce56c6f</td>\n",
       "      <td>1</td>\n",
       "      <td>us</td>\n",
       "      <td>organic</td>\n",
       "      <td>iOS</td>\n",
       "      <td>0.0</td>\n",
       "      <td>0.0</td>\n",
       "      <td>0.0</td>\n",
       "      <td>0.0</td>\n",
       "      <td>0.0</td>\n",
       "      <td>...</td>\n",
       "      <td>0.0</td>\n",
       "      <td>1</td>\n",
       "      <td>0</td>\n",
       "      <td>0</td>\n",
       "      <td>0</td>\n",
       "      <td>0</td>\n",
       "      <td>0</td>\n",
       "      <td>0</td>\n",
       "      <td>0</td>\n",
       "      <td>1</td>\n",
       "    </tr>\n",
       "    <tr>\n",
       "      <th>4</th>\n",
       "      <td>624651b0d32d7a000f2b9ae7</td>\n",
       "      <td>1</td>\n",
       "      <td>us</td>\n",
       "      <td>uac</td>\n",
       "      <td>Android</td>\n",
       "      <td>1.0</td>\n",
       "      <td>1.0</td>\n",
       "      <td>1.0</td>\n",
       "      <td>1.0</td>\n",
       "      <td>1.0</td>\n",
       "      <td>...</td>\n",
       "      <td>0.0</td>\n",
       "      <td>1</td>\n",
       "      <td>0</td>\n",
       "      <td>0</td>\n",
       "      <td>0</td>\n",
       "      <td>0</td>\n",
       "      <td>0</td>\n",
       "      <td>0</td>\n",
       "      <td>0</td>\n",
       "      <td>1</td>\n",
       "    </tr>\n",
       "  </tbody>\n",
       "</table>\n",
       "<p>5 rows × 33 columns</p>\n",
       "</div>"
      ],
      "text/plain": [
       "                    user_id  converted country signup_channel   \n",
       "0  624641c9d32d7a000c2c1996          1      us            gsn  \\\n",
       "1  624641d4d32d7a000cc01dd3          0      de            gsn   \n",
       "2  624649ffd32d7a000c88ac06          0      us        organic   \n",
       "3  6246505fd32d7a000ce56c6f          1      us        organic   \n",
       "4  624651b0d32d7a000f2b9ae7          1      us            uac   \n",
       "\n",
       "  signup_client_platform  bib_day0  bib_day1  bib_day2  bib_day3  bib_day4   \n",
       "0                    Web       0.0       0.0       0.0       0.0       0.0  \\\n",
       "1                Android       1.0       1.0       1.0       1.0       1.0   \n",
       "2                    Web       0.0       0.0       0.0       0.0       0.0   \n",
       "3                    iOS       0.0       0.0       0.0       0.0       0.0   \n",
       "4                Android       1.0       1.0       1.0       1.0       1.0   \n",
       "\n",
       "   ...  days_to_trial  trial_day1  trial_day2  trial_day3  trial_day4   \n",
       "0  ...            0.0           1           0           0           0  \\\n",
       "1  ...            0.0           1           0           0           0   \n",
       "2  ...            0.0           1           0           0           0   \n",
       "3  ...            0.0           1           0           0           0   \n",
       "4  ...            0.0           1           0           0           0   \n",
       "\n",
       "   trial_day5  trial_day6  trial_day7  trial_day8  trial_day0  \n",
       "0           0           0           0           0           1  \n",
       "1           0           0           0           0           1  \n",
       "2           0           0           0           0           1  \n",
       "3           0           0           0           0           1  \n",
       "4           0           0           0           0           1  \n",
       "\n",
       "[5 rows x 33 columns]"
      ]
     },
     "execution_count": 84,
     "metadata": {},
     "output_type": "execute_result"
    }
   ],
   "source": [
    "df.head()"
   ]
  },
  {
   "cell_type": "code",
   "execution_count": 35,
   "id": "9f220498",
   "metadata": {},
   "outputs": [
    {
     "data": {
      "text/plain": [
       "user_id                   0.00000\n",
       "converted                 0.00000\n",
       "country                   0.00000\n",
       "signup_channel            0.00000\n",
       "signup_client_platform    0.00000\n",
       "bib_day0                  0.00000\n",
       "bib_day1                  0.00000\n",
       "bib_day2                  0.00000\n",
       "bib_day3                  0.00000\n",
       "bib_day4                  0.00000\n",
       "bib_day5                  0.00000\n",
       "bib_day6                  0.00000\n",
       "bib_day7                  0.00000\n",
       "episode_day0              0.00000\n",
       "episode_day1              0.00000\n",
       "episode_day2              0.00000\n",
       "episode_day3              0.00000\n",
       "episode_day4              0.00000\n",
       "episode_day5              0.00000\n",
       "episode_day6              0.00000\n",
       "episode_day7              0.00000\n",
       "trial_ts                  0.06027\n",
       "signup_ts                 0.00000\n",
       "days_to_trial             0.06027\n",
       "trial_day1                0.00000\n",
       "trial_day2                0.00000\n",
       "trial_day3                0.00000\n",
       "trial_day4                0.00000\n",
       "trial_day5                0.00000\n",
       "trial_day6                0.00000\n",
       "trial_day7                0.00000\n",
       "trial_day8                0.00000\n",
       "dtype: float64"
      ]
     },
     "execution_count": 35,
     "metadata": {},
     "output_type": "execute_result"
    }
   ],
   "source": [
    "df.isnull().mean()"
   ]
  },
  {
   "cell_type": "code",
   "execution_count": null,
   "id": "905ba25e",
   "metadata": {},
   "outputs": [],
   "source": [
    "# dataset with cleaned data\n",
    "\n",
    "df.to_csv('df_final.csv', index=False)"
   ]
  },
  {
   "cell_type": "code",
   "execution_count": null,
   "id": "79537417",
   "metadata": {},
   "outputs": [
    {
     "data": {
      "image/png": "[encoded data removed]",
      "text/plain": [
       "<Figure size 640x480 with 1 Axes>"
      ]
     },
     "metadata": {},
     "output_type": "display_data"
    }
   ],
   "source": [
    "# some graphs to understand business situation\n",
    "# 1) Histogram of days_to_trial\n",
    "\n",
    "\n",
    "plt.figure()\n",
    "plt.hist(df['days_to_trial'].dropna(), bins=range(0, 10), edgecolor='black')\n",
    "plt.title('Distribution of Days to Trial Start')\n",
    "plt.xlabel('Days to Trial')\n",
    "plt.ylabel('Number of Users')\n",
    "plt.show()"
   ]
  },
  {
   "cell_type": "code",
   "execution_count": 38,
   "id": "1d408750",
   "metadata": {},
   "outputs": [
    {
     "data": {
      "image/png": "[encoded data removed]",
      "text/plain": [
       "<Figure size 640x480 with 1 Axes>"
      ]
     },
     "metadata": {},
     "output_type": "display_data"
    }
   ],
   "source": [
    "# 4) Average bib_count per day 1-8\n",
    "bib_cols = [col for col in df.columns if col.startswith('bib_day')]\n",
    "avg_bib = df[bib_cols].mean()\n",
    "plt.figure()\n",
    "plt.plot(range(1, len(bib_cols)+1), avg_bib.values, marker='o')\n",
    "plt.title('Average Summary Starts per Day (Days 1–8)')\n",
    "plt.xlabel('Day Number')\n",
    "plt.ylabel('Average bib_count')\n",
    "plt.xticks(range(1, len(bib_cols)+1))\n",
    "plt.show()"
   ]
  },
  {
   "cell_type": "code",
   "execution_count": 39,
   "id": "0a62dffb",
   "metadata": {},
   "outputs": [
    {
     "data": {
      "image/png": "[encoded data removed]",
      "text/plain": [
       "<Figure size 800x400 with 1 Axes>"
      ]
     },
     "metadata": {},
     "output_type": "display_data"
    }
   ],
   "source": [
    "# 4) Average bib_count per day 1–8 (redesigned)\n",
    "bib_cols = [col for col in df.columns if col.startswith('bib_day')]\n",
    "avg_bib = df[bib_cols].mean().values\n",
    "\n",
    "plt.figure(figsize=(8, 4))\n",
    "plt.plot(\n",
    "    range(1, len(bib_cols) + 1),\n",
    "    avg_bib,\n",
    "    marker='o',\n",
    "    linestyle='-',\n",
    "    linewidth=2,\n",
    "    markersize=6\n",
    ")\n",
    "plt.title('Average Summary Starts per Day (Days 1–8)', fontsize=14)\n",
    "plt.xlabel('Day Number', fontsize=12)\n",
    "plt.ylabel('Avg. Summary Starts', fontsize=12)\n",
    "plt.xticks(range(1, len(bib_cols) + 1))\n",
    "plt.grid(axis='y', linestyle='--', alpha=0.7)\n",
    "plt.tight_layout()\n",
    "plt.show()\n"
   ]
  },
  {
   "cell_type": "code",
   "execution_count": 86,
   "id": "8582c993",
   "metadata": {},
   "outputs": [
    {
     "data": {
      "image/png": "[encoded data removed]",
      "text/plain": [
       "<Figure size 800x400 with 1 Axes>"
      ]
     },
     "metadata": {},
     "output_type": "display_data"
    }
   ],
   "source": [
    "# 2) Line plot of the mean episode_day0 on days 0–7\n",
    "days = list(range(8))\n",
    "cols = [f\"episode_day{d}\" for d in days]\n",
    "means = df[cols].mean()\n",
    "\n",
    "plt.figure(figsize=(8,4))\n",
    "plt.plot(days, means, marker='o')\n",
    "plt.xticks(days)\n",
    "plt.xlabel(\"Days since signup\")\n",
    "plt.ylabel(\"Average # of summary starts (bib)\")\n",
    "plt.title(\"Average episode events per day (day 0–7)\")\n",
    "plt.grid(alpha=0.3)\n",
    "plt.show()"
   ]
  },
  {
   "cell_type": "code",
   "execution_count": null,
   "id": "1267c1d5",
   "metadata": {},
   "outputs": [
    {
     "data": {
      "image/png": "[encoded data removed]",
      "text/plain": [
       "<Figure size 800x600 with 1 Axes>"
      ]
     },
     "metadata": {},
     "output_type": "display_data"
    }
   ],
   "source": [
    "# 1) compute per‐country counts & conversion\n",
    "ct = df['country'].value_counts()\n",
    "big_countries = ct[ct >= 1000].index            # only keep countries with ≥1k users\n",
    "country_stats = (\n",
    "    df[df['country'].isin(big_countries)]\n",
    "      .groupby('country')['converted']\n",
    "      .agg(['mean','count'])\n",
    "      .rename(columns={'mean':'conv_rate','count':'n_users'})\n",
    "      .sort_values('conv_rate', ascending=False)\n",
    ")\n",
    "\n",
    "# 2) horizontal bar plot\n",
    "plt.figure(figsize=(8,6))\n",
    "sns.barplot(\n",
    "    data=country_stats.reset_index(),\n",
    "    y='country', x='conv_rate',\n",
    "    palette='rocket'\n",
    ")\n",
    "plt.title(\"Conversion Rate by Country (≥ 1 000 users)\")\n",
    "plt.xlabel(\"Conversion Rate %\")\n",
    "plt.ylabel(\"Country\")\n",
    "plt.xlim(0,1)\n",
    "plt.grid(axis='x', linestyle='--', alpha=0.5)\n",
    "plt.tight_layout()\n",
    "plt.show()\n",
    "\n"
   ]
  },
  {
   "cell_type": "code",
   "execution_count": null,
   "id": "1a3f681c",
   "metadata": {},
   "outputs": [
    {
     "data": {
      "image/png": "[encoded data removed]",
      "text/plain": [
       "<Figure size 600x400 with 1 Axes>"
      ]
     },
     "metadata": {},
     "output_type": "display_data"
    },
    {
     "data": {
      "image/png": "[encoded data removed]",
      "text/plain": [
       "<Figure size 600x400 with 1 Axes>"
      ]
     },
     "metadata": {},
     "output_type": "display_data"
    }
   ],
   "source": [
    "def plot_cat_metric(col, min_n=500, title=None):\n",
    "    stats = (\n",
    "      df[col].value_counts()\n",
    "        .pipe(lambda vc: vc[vc >= min_n].index)           # keep big categories\n",
    "        .to_series(name='n_users')\n",
    "        .reset_index().rename(columns={'index':col})\n",
    "        .merge(\n",
    "            df.groupby(col)['converted']\n",
    "              .mean().rename('conv_rate'),\n",
    "            on=col\n",
    "        )\n",
    "        .sort_values('conv_rate', ascending=False)\n",
    "    )\n",
    "    plt.figure(figsize=(6,4))\n",
    "    sns.barplot(data=stats, y=col, x='conv_rate', palette='mako')\n",
    "    plt.title(title or f\"Conversion by {col.title()}\")\n",
    "    plt.xlabel(\"Conversion Rate %\")\n",
    "    plt.ylabel(col.title())\n",
    "    plt.xlim(0,1)\n",
    "    plt.grid(axis='x', linestyle='--', alpha=0.5)\n",
    "    plt.tight_layout()\n",
    "    plt.show()\n",
    "\n",
    "# by signup channel\n",
    "plot_cat_metric('signup_channel', min_n=2000, title=\"Conversion by Signup Channel\")\n",
    "\n",
    "# by client platform\n",
    "plot_cat_metric('signup_client_platform', min_n=2000, title=\"Conversion by Platform\")\n",
    "\n"
   ]
  },
  {
   "cell_type": "code",
   "execution_count": 43,
   "id": "8ad65731",
   "metadata": {},
   "outputs": [
    {
     "name": "stdout",
     "output_type": "stream",
     "text": [
      "<class 'pandas.core.frame.DataFrame'>\n",
      "RangeIndex: 194459 entries, 0 to 194458\n",
      "Data columns (total 32 columns):\n",
      " #   Column                  Non-Null Count   Dtype         \n",
      "---  ------                  --------------   -----         \n",
      " 0   user_id                 194459 non-null  object        \n",
      " 1   converted               194459 non-null  int32         \n",
      " 2   country                 194459 non-null  object        \n",
      " 3   signup_channel          194459 non-null  object        \n",
      " 4   signup_client_platform  194459 non-null  object        \n",
      " 5   bib_day0                194459 non-null  float64       \n",
      " 6   bib_day1                194459 non-null  float64       \n",
      " 7   bib_day2                194459 non-null  float64       \n",
      " 8   bib_day3                194459 non-null  float64       \n",
      " 9   bib_day4                194459 non-null  float64       \n",
      " 10  bib_day5                194459 non-null  float64       \n",
      " 11  bib_day6                194459 non-null  float64       \n",
      " 12  bib_day7                194459 non-null  float64       \n",
      " 13  episode_day0            194459 non-null  float64       \n",
      " 14  episode_day1            194459 non-null  float64       \n",
      " 15  episode_day2            194459 non-null  float64       \n",
      " 16  episode_day3            194459 non-null  float64       \n",
      " 17  episode_day4            194459 non-null  float64       \n",
      " 18  episode_day5            194459 non-null  float64       \n",
      " 19  episode_day6            194459 non-null  float64       \n",
      " 20  episode_day7            194459 non-null  float64       \n",
      " 21  trial_ts                182739 non-null  datetime64[ns]\n",
      " 22  signup_ts               194459 non-null  datetime64[ns]\n",
      " 23  days_to_trial           182739 non-null  float64       \n",
      " 24  trial_day1              194459 non-null  int32         \n",
      " 25  trial_day2              194459 non-null  int32         \n",
      " 26  trial_day3              194459 non-null  int32         \n",
      " 27  trial_day4              194459 non-null  int32         \n",
      " 28  trial_day5              194459 non-null  int32         \n",
      " 29  trial_day6              194459 non-null  int32         \n",
      " 30  trial_day7              194459 non-null  int32         \n",
      " 31  trial_day8              194459 non-null  int32         \n",
      "dtypes: datetime64[ns](2), float64(17), int32(9), object(4)\n",
      "memory usage: 40.8+ MB\n"
     ]
    }
   ],
   "source": [
    "df.info()"
   ]
  },
  {
   "cell_type": "code",
   "execution_count": null,
   "id": "e40a6c25",
   "metadata": {},
   "outputs": [],
   "source": [
    "# build a preprocessing + modeling pipeline:\n",
    "# - OneHotEncoder for categorical cols (drop first category, ignore unknowns)\n",
    "# - passthrough numeric cols unchanged\n",
    "# - train LogisticRegression(max_iter=1000, random_state=42)\n",
    "# fit on X_train/y_train, then on X_test:\n",
    "# - predict_probabilities for ROC-AUC curve analysis\n",
    "# - predict classes for F1 calculation\n",
    "# print baseline ROC-AUC and F1 so we have initial benchmarks\n",
    "\n",
    "\n",
    "\n",
    "N = 1                       # змінюй, якщо треба Day-2, Day-3 …\n",
    "num_cols = [f'bib_day{N-1}',          # bib_day0  (при N=1)\n",
    "            f'episode_day{N-1}',      # episode_day0\n",
    "            f'trial_day{N}']          # trial_day1 (індикатор trial ≤24 год)\n"
   ]
  },
  {
   "cell_type": "code",
   "execution_count": 46,
   "id": "9cd274fc",
   "metadata": {},
   "outputs": [],
   "source": [
    "cat_cols = ['country', 'signup_channel', 'signup_client_platform']\n",
    "target   = 'converted'\n"
   ]
  },
  {
   "cell_type": "code",
   "execution_count": 47,
   "id": "f502bd4b",
   "metadata": {},
   "outputs": [],
   "source": [
    "df_mod = df.drop(columns=['user_id',\n",
    "                          'first_marketplace',   # payment info -> leakage\n",
    "                          'has_mp',              # дублікат попереднього\n",
    "                          'days_to_trial',\n",
    "                          'trial_ts', 'signup_ts'],      # замінено trial_day\n",
    "                     errors='ignore')"
   ]
  },
  {
   "cell_type": "code",
   "execution_count": 48,
   "id": "867c3d9c",
   "metadata": {},
   "outputs": [],
   "source": [
    "X = df_mod[cat_cols + num_cols]\n",
    "y = df_mod[target]"
   ]
  },
  {
   "cell_type": "code",
   "execution_count": 49,
   "id": "69868f56",
   "metadata": {},
   "outputs": [],
   "source": [
    "X_train, X_test, y_train, y_test = train_test_split(\n",
    "        X, y, test_size=0.2, stratify=y, random_state=42)"
   ]
  },
  {
   "cell_type": "code",
   "execution_count": 50,
   "id": "f73cdd7c",
   "metadata": {},
   "outputs": [],
   "source": [
    "preprocess = ColumnTransformer(\n",
    "    [('cat', OneHotEncoder(drop='first', handle_unknown='ignore'), cat_cols)],\n",
    "    remainder='passthrough')"
   ]
  },
  {
   "cell_type": "code",
   "execution_count": 51,
   "id": "2ad556e0",
   "metadata": {},
   "outputs": [],
   "source": [
    "pipe_lr = Pipeline([\n",
    "    ('prep', preprocess),\n",
    "    ('lr', LogisticRegression(max_iter=1000, random_state=42))\n",
    "])"
   ]
  },
  {
   "cell_type": "code",
   "execution_count": 52,
   "id": "5c124055",
   "metadata": {},
   "outputs": [
    {
     "name": "stdout",
     "output_type": "stream",
     "text": [
      "Baseline LogisticRegression - ROC-AUC: 0.645, F1: 0.345\n"
     ]
    },
    {
     "name": "stderr",
     "output_type": "stream",
     "text": [
      "C:\\Users\\Pysku\\AppData\\Local\\Packages\\PythonSoftwareFoundation.Python.3.11_qbz5n2kfra8p0\\LocalCache\\local-packages\\Python311\\site-packages\\sklearn\\preprocessing\\_encoders.py:202: UserWarning: Found unknown categories in columns [0, 1] during transform. These unknown categories will be encoded as all zeros\n",
      "  warnings.warn(\n",
      "C:\\Users\\Pysku\\AppData\\Local\\Packages\\PythonSoftwareFoundation.Python.3.11_qbz5n2kfra8p0\\LocalCache\\local-packages\\Python311\\site-packages\\sklearn\\preprocessing\\_encoders.py:202: UserWarning: Found unknown categories in columns [0, 1] during transform. These unknown categories will be encoded as all zeros\n",
      "  warnings.warn(\n"
     ]
    }
   ],
   "source": [
    "# обчислює площу під ROC-кривою, тобто наскільки добре модель розрізняє класи на різних порогах.\n",
    "\n",
    "pipe_lr.fit(X_train, y_train)\n",
    "# Робимо прогноз ймовірностей і класів на тесті\n",
    "y_prob = pipe_lr.predict_proba(X_test)[:,1]\n",
    "y_pred = pipe_lr.predict(X_test)\n",
    "\n",
    "# Обчислюємо метрики\n",
    "auc = roc_auc_score(y_test, y_prob)\n",
    "f1 = f1_score(y_test, y_pred)\n",
    "print(f\"Baseline LogisticRegression - ROC-AUC: {auc:.3f}, F1: {f1:.3f}\")"
   ]
  },
  {
   "cell_type": "code",
   "execution_count": null,
   "id": "4f5864bb",
   "metadata": {},
   "outputs": [
    {
     "name": "stderr",
     "output_type": "stream",
     "text": [
      "C:\\Users\\Pysku\\AppData\\Local\\Packages\\PythonSoftwareFoundation.Python.3.11_qbz5n2kfra8p0\\LocalCache\\local-packages\\Python311\\site-packages\\sklearn\\preprocessing\\_encoders.py:202: UserWarning: Found unknown categories in columns [0, 1] during transform. These unknown categories will be encoded as all zeros\n",
      "  warnings.warn(\n"
     ]
    },
    {
     "data": {
      "text/plain": [
       "0.6423410590407233"
      ]
     },
     "execution_count": 53,
     "metadata": {},
     "output_type": "execute_result"
    }
   ],
   "source": [
    "# за замовчуванням для класифікатора — це accuracy (доля правильних передбачень) на тих даних, які ти передав.\n",
    "# evaluate overall classifier accuracy on the full dataset:\n",
    "# pipe_lr.score(X, y) returns the fraction of correct predictions\n",
    "# this quick check ensures the pipeline runs end-to-end before deeper analysis\n",
    "\n",
    "pipe_lr.score(X, y)"
   ]
  },
  {
   "cell_type": "code",
   "execution_count": null,
   "id": "82a83ec6",
   "metadata": {},
   "outputs": [
    {
     "name": "stdout",
     "output_type": "stream",
     "text": [
      "Confusion Matrix:\n",
      "[[21098  2792]\n",
      " [11290  3712]]\n",
      "TN=21098, FP=2792, FN=11290, TP=3712\n"
     ]
    }
   ],
   "source": [
    "# inspect model errors via confusion matrix\n",
    "\n",
    "from sklearn.metrics import confusion_matrix\n",
    "\n",
    "# y_true — справжні мітки, y_pred — це model.predict(X_test)\n",
    "cm = confusion_matrix(y_test, y_pred)\n",
    "tn, fp, fn, tp = cm.ravel()\n",
    "\n",
    "print(\"Confusion Matrix:\")\n",
    "print(cm)\n",
    "print(f\"TN={tn}, FP={fp}, FN={fn}, TP={tp}\")\n"
   ]
  },
  {
   "cell_type": "code",
   "execution_count": null,
   "id": "d1da4709",
   "metadata": {},
   "outputs": [
    {
     "data": {
      "text/plain": [
       "cat__signup_channel_thoughty2              1.251660\n",
       "cat__signup_channel_feli-from-germany      1.244822\n",
       "cat__signup_channel_caspianreport          1.239192\n",
       "cat__signup_channel_youfact-tech           1.202952\n",
       "cat__signup_channel_awfnr                  1.118350\n",
       "cat__signup_channel_fond                   1.089800\n",
       "cat__country_ag                            1.079426\n",
       "cat__signup_channel_politics-war-room      1.067392\n",
       "cat__country_bm                            1.059572\n",
       "cat__signup_channel_rexs-hangar            1.056648\n",
       "cat__country_gl                            1.051893\n",
       "cat__signup_channel_betreutes-fhlen        1.035200\n",
       "cat__country_sc                            1.014879\n",
       "cat__country_me                            0.982300\n",
       "cat__signup_channel_the-mary-trump-show    0.965899\n",
       "cat__signup_channel_politicsgirl           0.965056\n",
       "cat__signup_channel_pleo                   0.960041\n",
       "cat__country_pg                            0.941158\n",
       "cat__country_bq                            0.940019\n",
       "cat__country_gg                            0.935726\n",
       "dtype: float64"
      ]
     },
     "execution_count": 55,
     "metadata": {},
     "output_type": "execute_result"
    }
   ],
   "source": [
    "# baseline summary:\n",
    "# overall accuracy ~0.642, ROC-AUC ~0.645, F1 ~0.345\n",
    "# confusion matrix shows more false negatives (11290) than true positives (3712)\n",
    "# coeficients, which are below, in liniar model are telling us which parametr is more important\n",
    "\n",
    "coefs = pipe_lr.named_steps['lr'].coef_[0]      # масив ваг b1…bp\n",
    "features = pipe_lr.named_steps['prep'].get_feature_names_out()\n",
    "pd.Series(coefs, index=features).sort_values(ascending=False).head(20)\n"
   ]
  },
  {
   "cell_type": "code",
   "execution_count": null,
   "id": "ade396e4",
   "metadata": {},
   "outputs": [],
   "source": []
  },
  {
   "cell_type": "code",
   "execution_count": null,
   "id": "0575f3a8",
   "metadata": {},
   "outputs": [],
   "source": [
    "# I wanted a rough idea of which model was worth tuning, \n",
    "# so I looped through all three (LR, RF, XGB) and ran a 5-fold CV on just the categorical features, scoring with ROC-AUC\n",
    "\n",
    "\n",
    "pipe_rf = Pipeline([\n",
    "    ('prep', preprocess),\n",
    "    ('rf',  RandomForestClassifier(n_estimators=1000, random_state=42))\n",
    "])\n",
    "\n",
    "pipe_xgb = Pipeline([\n",
    "    ('prep', preprocess),\n",
    "    ('xgb', XGBClassifier(n_estimators=100, use_label_encoder=False, eval_metric='logloss', random_state=0))\n",
    "])"
   ]
  },
  {
   "cell_type": "code",
   "execution_count": null,
   "id": "a9062fed",
   "metadata": {},
   "outputs": [
    {
     "name": "stderr",
     "output_type": "stream",
     "text": [
      "C:\\Users\\Pysku\\AppData\\Local\\Packages\\PythonSoftwareFoundation.Python.3.11_qbz5n2kfra8p0\\LocalCache\\local-packages\\Python311\\site-packages\\sklearn\\preprocessing\\_encoders.py:202: UserWarning: Found unknown categories in columns [0, 1] during transform. These unknown categories will be encoded as all zeros\n",
      "  warnings.warn(\n",
      "C:\\Users\\Pysku\\AppData\\Local\\Packages\\PythonSoftwareFoundation.Python.3.11_qbz5n2kfra8p0\\LocalCache\\local-packages\\Python311\\site-packages\\sklearn\\preprocessing\\_encoders.py:202: UserWarning: Found unknown categories in columns [0, 1] during transform. These unknown categories will be encoded as all zeros\n",
      "  warnings.warn(\n",
      "C:\\Users\\Pysku\\AppData\\Local\\Packages\\PythonSoftwareFoundation.Python.3.11_qbz5n2kfra8p0\\LocalCache\\local-packages\\Python311\\site-packages\\sklearn\\preprocessing\\_encoders.py:202: UserWarning: Found unknown categories in columns [0, 1] during transform. These unknown categories will be encoded as all zeros\n",
      "  warnings.warn(\n",
      "C:\\Users\\Pysku\\AppData\\Local\\Packages\\PythonSoftwareFoundation.Python.3.11_qbz5n2kfra8p0\\LocalCache\\local-packages\\Python311\\site-packages\\sklearn\\preprocessing\\_encoders.py:202: UserWarning: Found unknown categories in columns [0, 1] during transform. These unknown categories will be encoded as all zeros\n",
      "  warnings.warn(\n",
      "C:\\Users\\Pysku\\AppData\\Local\\Packages\\PythonSoftwareFoundation.Python.3.11_qbz5n2kfra8p0\\LocalCache\\local-packages\\Python311\\site-packages\\sklearn\\preprocessing\\_encoders.py:202: UserWarning: Found unknown categories in columns [0, 1] during transform. These unknown categories will be encoded as all zeros\n",
      "  warnings.warn(\n"
     ]
    },
    {
     "name": "stdout",
     "output_type": "stream",
     "text": [
      "LogisticRegression ROC-AUC: 0.615 ± 0.003\n"
     ]
    }
   ],
   "source": [
    "models = {\n",
    "    \"LogisticRegression\": pipe_lr,\n",
    "    \"RandomForest\": pipe_rf,\n",
    "    \"XGBoost\": pipe_xgb\n",
    "}\n",
    "for name, pipeline in models.items():\n",
    "    auc_scores = cross_val_score(pipeline, df[cat_cols], df[target],\n",
    "                                 cv=5, scoring='roc_auc')\n",
    "    print(f\"{name} ROC-AUC: {auc_scores.mean():.3f} ± {auc_scores.std():.3f}\")"
   ]
  },
  {
   "cell_type": "code",
   "execution_count": null,
   "id": "f1361484",
   "metadata": {},
   "outputs": [
    {
     "data": {
      "text/plain": [
       "signup_channel            0.048635\n",
       "signup_client_platform    0.040663\n",
       "country                   0.040532\n",
       "bib_day0                  0.032875\n",
       "trial_day1                0.032713\n",
       "episode_day0              0.001876\n",
       "dtype: float64"
      ]
     },
     "execution_count": 97,
     "metadata": {},
     "output_type": "execute_result"
    }
   ],
   "source": [
    "from sklearn.inspection import permutation_importance\n",
    "\n",
    "result = permutation_importance(pipe_xgb, X_test, y_test, n_repeats=10, scoring='roc_auc')\n",
    "imp = pd.Series(result.importances_mean, index=X_test.columns).sort_values(ascending=False)\n",
    "imp.head(20)\n"
   ]
  },
  {
   "cell_type": "code",
   "execution_count": null,
   "id": "dee2d673",
   "metadata": {},
   "outputs": [],
   "source": [
    "pipelines = {\n",
    "    'logreg': pipe_lr,\n",
    "    'rf':      pipe_rf,\n",
    "    'xgb':     pipe_xgb\n",
    "}\n"
   ]
  },
  {
   "cell_type": "code",
   "execution_count": null,
   "id": "fe48c51a",
   "metadata": {},
   "outputs": [
    {
     "data": {
      "text/html": [
       "<style>#sk-container-id-1 {color: black;background-color: white;}#sk-container-id-1 pre{padding: 0;}#sk-container-id-1 div.sk-toggleable {background-color: white;}#sk-container-id-1 label.sk-toggleable__label {cursor: pointer;display: block;width: 100%;margin-bottom: 0;padding: 0.3em;box-sizing: border-box;text-align: center;}#sk-container-id-1 label.sk-toggleable__label-arrow:before {content: \"▸\";float: left;margin-right: 0.25em;color: #696969;}#sk-container-id-1 label.sk-toggleable__label-arrow:hover:before {color: black;}#sk-container-id-1 div.sk-estimator:hover label.sk-toggleable__label-arrow:before {color: black;}#sk-container-id-1 div.sk-toggleable__content {max-height: 0;max-width: 0;overflow: hidden;text-align: left;background-color: #f0f8ff;}#sk-container-id-1 div.sk-toggleable__content pre {margin: 0.2em;color: black;border-radius: 0.25em;background-color: #f0f8ff;}#sk-container-id-1 input.sk-toggleable__control:checked~div.sk-toggleable__content {max-height: 200px;max-width: 100%;overflow: auto;}#sk-container-id-1 input.sk-toggleable__control:checked~label.sk-toggleable__label-arrow:before {content: \"▾\";}#sk-container-id-1 div.sk-estimator input.sk-toggleable__control:checked~label.sk-toggleable__label {background-color: #d4ebff;}#sk-container-id-1 div.sk-label input.sk-toggleable__control:checked~label.sk-toggleable__label {background-color: #d4ebff;}#sk-container-id-1 input.sk-hidden--visually {border: 0;clip: rect(1px 1px 1px 1px);clip: rect(1px, 1px, 1px, 1px);height: 1px;margin: -1px;overflow: hidden;padding: 0;position: absolute;width: 1px;}#sk-container-id-1 div.sk-estimator {font-family: monospace;background-color: #f0f8ff;border: 1px dotted black;border-radius: 0.25em;box-sizing: border-box;margin-bottom: 0.5em;}#sk-container-id-1 div.sk-estimator:hover {background-color: #d4ebff;}#sk-container-id-1 div.sk-parallel-item::after {content: \"\";width: 100%;border-bottom: 1px solid gray;flex-grow: 1;}#sk-container-id-1 div.sk-label:hover label.sk-toggleable__label {background-color: #d4ebff;}#sk-container-id-1 div.sk-serial::before {content: \"\";position: absolute;border-left: 1px solid gray;box-sizing: border-box;top: 0;bottom: 0;left: 50%;z-index: 0;}#sk-container-id-1 div.sk-serial {display: flex;flex-direction: column;align-items: center;background-color: white;padding-right: 0.2em;padding-left: 0.2em;position: relative;}#sk-container-id-1 div.sk-item {position: relative;z-index: 1;}#sk-container-id-1 div.sk-parallel {display: flex;align-items: stretch;justify-content: center;background-color: white;position: relative;}#sk-container-id-1 div.sk-item::before, #sk-container-id-1 div.sk-parallel-item::before {content: \"\";position: absolute;border-left: 1px solid gray;box-sizing: border-box;top: 0;bottom: 0;left: 50%;z-index: -1;}#sk-container-id-1 div.sk-parallel-item {display: flex;flex-direction: column;z-index: 1;position: relative;background-color: white;}#sk-container-id-1 div.sk-parallel-item:first-child::after {align-self: flex-end;width: 50%;}#sk-container-id-1 div.sk-parallel-item:last-child::after {align-self: flex-start;width: 50%;}#sk-container-id-1 div.sk-parallel-item:only-child::after {width: 0;}#sk-container-id-1 div.sk-dashed-wrapped {border: 1px dashed gray;margin: 0 0.4em 0.5em 0.4em;box-sizing: border-box;padding-bottom: 0.4em;background-color: white;}#sk-container-id-1 div.sk-label label {font-family: monospace;font-weight: bold;display: inline-block;line-height: 1.2em;}#sk-container-id-1 div.sk-label-container {text-align: center;}#sk-container-id-1 div.sk-container {/* jupyter's `normalize.less` sets `[hidden] { display: none; }` but bootstrap.min.css set `[hidden] { display: none !important; }` so we also need the `!important` here to be able to override the default hidden behavior on the sphinx rendered scikit-learn.org. See: https://github.com/scikit-learn/scikit-learn/issues/21755 */display: inline-block !important;position: relative;}#sk-container-id-1 div.sk-text-repr-fallback {display: none;}</style><div id=\"sk-container-id-1\" class=\"sk-top-container\"><div class=\"sk-text-repr-fallback\"><pre>Pipeline(steps=[(&#x27;prep&#x27;,\n",
       "                 ColumnTransformer(remainder=&#x27;passthrough&#x27;,\n",
       "                                   transformers=[(&#x27;cat&#x27;,\n",
       "                                                  OrdinalEncoder(handle_unknown=&#x27;use_encoded_value&#x27;,\n",
       "                                                                 unknown_value=-1),\n",
       "                                                  [&#x27;country&#x27;, &#x27;signup_channel&#x27;,\n",
       "                                                   &#x27;signup_client_platform&#x27;])])),\n",
       "                (&#x27;rf&#x27;,\n",
       "                 RandomForestClassifier(n_estimators=1000, random_state=42))])</pre><b>In a Jupyter environment, please rerun this cell to show the HTML representation or trust the notebook. <br />On GitHub, the HTML representation is unable to render, please try loading this page with nbviewer.org.</b></div><div class=\"sk-container\" hidden><div class=\"sk-item sk-dashed-wrapped\"><div class=\"sk-label-container\"><div class=\"sk-label sk-toggleable\"><input class=\"sk-toggleable__control sk-hidden--visually\" id=\"sk-estimator-id-1\" type=\"checkbox\" ><label for=\"sk-estimator-id-1\" class=\"sk-toggleable__label sk-toggleable__label-arrow\">Pipeline</label><div class=\"sk-toggleable__content\"><pre>Pipeline(steps=[(&#x27;prep&#x27;,\n",
       "                 ColumnTransformer(remainder=&#x27;passthrough&#x27;,\n",
       "                                   transformers=[(&#x27;cat&#x27;,\n",
       "                                                  OrdinalEncoder(handle_unknown=&#x27;use_encoded_value&#x27;,\n",
       "                                                                 unknown_value=-1),\n",
       "                                                  [&#x27;country&#x27;, &#x27;signup_channel&#x27;,\n",
       "                                                   &#x27;signup_client_platform&#x27;])])),\n",
       "                (&#x27;rf&#x27;,\n",
       "                 RandomForestClassifier(n_estimators=1000, random_state=42))])</pre></div></div></div><div class=\"sk-serial\"><div class=\"sk-item sk-dashed-wrapped\"><div class=\"sk-label-container\"><div class=\"sk-label sk-toggleable\"><input class=\"sk-toggleable__control sk-hidden--visually\" id=\"sk-estimator-id-2\" type=\"checkbox\" ><label for=\"sk-estimator-id-2\" class=\"sk-toggleable__label sk-toggleable__label-arrow\">prep: ColumnTransformer</label><div class=\"sk-toggleable__content\"><pre>ColumnTransformer(remainder=&#x27;passthrough&#x27;,\n",
       "                  transformers=[(&#x27;cat&#x27;,\n",
       "                                 OrdinalEncoder(handle_unknown=&#x27;use_encoded_value&#x27;,\n",
       "                                                unknown_value=-1),\n",
       "                                 [&#x27;country&#x27;, &#x27;signup_channel&#x27;,\n",
       "                                  &#x27;signup_client_platform&#x27;])])</pre></div></div></div><div class=\"sk-parallel\"><div class=\"sk-parallel-item\"><div class=\"sk-item\"><div class=\"sk-label-container\"><div class=\"sk-label sk-toggleable\"><input class=\"sk-toggleable__control sk-hidden--visually\" id=\"sk-estimator-id-3\" type=\"checkbox\" ><label for=\"sk-estimator-id-3\" class=\"sk-toggleable__label sk-toggleable__label-arrow\">cat</label><div class=\"sk-toggleable__content\"><pre>[&#x27;country&#x27;, &#x27;signup_channel&#x27;, &#x27;signup_client_platform&#x27;]</pre></div></div></div><div class=\"sk-serial\"><div class=\"sk-item\"><div class=\"sk-estimator sk-toggleable\"><input class=\"sk-toggleable__control sk-hidden--visually\" id=\"sk-estimator-id-4\" type=\"checkbox\" ><label for=\"sk-estimator-id-4\" class=\"sk-toggleable__label sk-toggleable__label-arrow\">OrdinalEncoder</label><div class=\"sk-toggleable__content\"><pre>OrdinalEncoder(handle_unknown=&#x27;use_encoded_value&#x27;, unknown_value=-1)</pre></div></div></div></div></div></div><div class=\"sk-parallel-item\"><div class=\"sk-item\"><div class=\"sk-label-container\"><div class=\"sk-label sk-toggleable\"><input class=\"sk-toggleable__control sk-hidden--visually\" id=\"sk-estimator-id-5\" type=\"checkbox\" ><label for=\"sk-estimator-id-5\" class=\"sk-toggleable__label sk-toggleable__label-arrow\">remainder</label><div class=\"sk-toggleable__content\"><pre>[&#x27;bib_day0&#x27;, &#x27;episode_day0&#x27;, &#x27;trial_day1&#x27;]</pre></div></div></div><div class=\"sk-serial\"><div class=\"sk-item\"><div class=\"sk-estimator sk-toggleable\"><input class=\"sk-toggleable__control sk-hidden--visually\" id=\"sk-estimator-id-6\" type=\"checkbox\" ><label for=\"sk-estimator-id-6\" class=\"sk-toggleable__label sk-toggleable__label-arrow\">passthrough</label><div class=\"sk-toggleable__content\"><pre>passthrough</pre></div></div></div></div></div></div></div></div><div class=\"sk-item\"><div class=\"sk-estimator sk-toggleable\"><input class=\"sk-toggleable__control sk-hidden--visually\" id=\"sk-estimator-id-7\" type=\"checkbox\" ><label for=\"sk-estimator-id-7\" class=\"sk-toggleable__label sk-toggleable__label-arrow\">RandomForestClassifier</label><div class=\"sk-toggleable__content\"><pre>RandomForestClassifier(n_estimators=1000, random_state=42)</pre></div></div></div></div></div></div></div>"
      ],
      "text/plain": [
       "Pipeline(steps=[('prep',\n",
       "                 ColumnTransformer(remainder='passthrough',\n",
       "                                   transformers=[('cat',\n",
       "                                                  OrdinalEncoder(handle_unknown='use_encoded_value',\n",
       "                                                                 unknown_value=-1),\n",
       "                                                  ['country', 'signup_channel',\n",
       "                                                   'signup_client_platform'])])),\n",
       "                ('rf',\n",
       "                 RandomForestClassifier(n_estimators=1000, random_state=42))])"
      ]
     },
     "execution_count": 102,
     "metadata": {},
     "output_type": "execute_result"
    }
   ],
   "source": [
    "pipe_rf.fit(X_train, y_train)"
   ]
  },
  {
   "cell_type": "code",
   "execution_count": null,
   "id": "01edf523",
   "metadata": {},
   "outputs": [
    {
     "name": "stderr",
     "output_type": "stream",
     "text": [
      "C:\\Users\\Pysku\\AppData\\Local\\Packages\\PythonSoftwareFoundation.Python.3.11_qbz5n2kfra8p0\\LocalCache\\local-packages\\Python311\\site-packages\\sklearn\\preprocessing\\_encoders.py:202: UserWarning: Found unknown categories in columns [0, 1] during transform. These unknown categories will be encoded as all zeros\n",
      "  warnings.warn(\n",
      "C:\\Users\\Pysku\\AppData\\Local\\Packages\\PythonSoftwareFoundation.Python.3.11_qbz5n2kfra8p0\\LocalCache\\local-packages\\Python311\\site-packages\\sklearn\\preprocessing\\_encoders.py:202: UserWarning: Found unknown categories in columns [0, 1] during transform. These unknown categories will be encoded as all zeros\n",
      "  warnings.warn(\n",
      "C:\\Users\\Pysku\\AppData\\Local\\Packages\\PythonSoftwareFoundation.Python.3.11_qbz5n2kfra8p0\\LocalCache\\local-packages\\Python311\\site-packages\\sklearn\\preprocessing\\_encoders.py:202: UserWarning: Found unknown categories in columns [0, 1] during transform. These unknown categories will be encoded as all zeros\n",
      "  warnings.warn(\n",
      "C:\\Users\\Pysku\\AppData\\Local\\Packages\\PythonSoftwareFoundation.Python.3.11_qbz5n2kfra8p0\\LocalCache\\local-packages\\Python311\\site-packages\\sklearn\\preprocessing\\_encoders.py:202: UserWarning: Found unknown categories in columns [0, 1] during transform. These unknown categories will be encoded as all zeros\n",
      "  warnings.warn(\n",
      "C:\\Users\\Pysku\\AppData\\Local\\Packages\\PythonSoftwareFoundation.Python.3.11_qbz5n2kfra8p0\\LocalCache\\local-packages\\Python311\\site-packages\\sklearn\\preprocessing\\_encoders.py:202: UserWarning: Found unknown categories in columns [0, 1] during transform. These unknown categories will be encoded as all zeros\n",
      "  warnings.warn(\n",
      "C:\\Users\\Pysku\\AppData\\Local\\Packages\\PythonSoftwareFoundation.Python.3.11_qbz5n2kfra8p0\\LocalCache\\local-packages\\Python311\\site-packages\\sklearn\\preprocessing\\_encoders.py:202: UserWarning: Found unknown categories in columns [0, 1] during transform. These unknown categories will be encoded as all zeros\n",
      "  warnings.warn(\n",
      "C:\\Users\\Pysku\\AppData\\Local\\Packages\\PythonSoftwareFoundation.Python.3.11_qbz5n2kfra8p0\\LocalCache\\local-packages\\Python311\\site-packages\\sklearn\\preprocessing\\_encoders.py:202: UserWarning: Found unknown categories in columns [0, 1] during transform. These unknown categories will be encoded as all zeros\n",
      "  warnings.warn(\n",
      "C:\\Users\\Pysku\\AppData\\Local\\Packages\\PythonSoftwareFoundation.Python.3.11_qbz5n2kfra8p0\\LocalCache\\local-packages\\Python311\\site-packages\\sklearn\\preprocessing\\_encoders.py:202: UserWarning: Found unknown categories in columns [0, 1] during transform. These unknown categories will be encoded as all zeros\n",
      "  warnings.warn(\n",
      "C:\\Users\\Pysku\\AppData\\Local\\Packages\\PythonSoftwareFoundation.Python.3.11_qbz5n2kfra8p0\\LocalCache\\local-packages\\Python311\\site-packages\\sklearn\\preprocessing\\_encoders.py:202: UserWarning: Found unknown categories in columns [0, 1] during transform. These unknown categories will be encoded as all zeros\n",
      "  warnings.warn(\n",
      "C:\\Users\\Pysku\\AppData\\Local\\Packages\\PythonSoftwareFoundation.Python.3.11_qbz5n2kfra8p0\\LocalCache\\local-packages\\Python311\\site-packages\\sklearn\\preprocessing\\_encoders.py:202: UserWarning: Found unknown categories in columns [0, 1] during transform. These unknown categories will be encoded as all zeros\n",
      "  warnings.warn(\n",
      "C:\\Users\\Pysku\\AppData\\Local\\Packages\\PythonSoftwareFoundation.Python.3.11_qbz5n2kfra8p0\\LocalCache\\local-packages\\Python311\\site-packages\\sklearn\\preprocessing\\_encoders.py:202: UserWarning: Found unknown categories in columns [0, 1] during transform. These unknown categories will be encoded as all zeros\n",
      "  warnings.warn(\n",
      "C:\\Users\\Pysku\\AppData\\Local\\Packages\\PythonSoftwareFoundation.Python.3.11_qbz5n2kfra8p0\\LocalCache\\local-packages\\Python311\\site-packages\\sklearn\\preprocessing\\_encoders.py:202: UserWarning: Found unknown categories in columns [0, 1] during transform. These unknown categories will be encoded as all zeros\n",
      "  warnings.warn(\n",
      "C:\\Users\\Pysku\\AppData\\Local\\Packages\\PythonSoftwareFoundation.Python.3.11_qbz5n2kfra8p0\\LocalCache\\local-packages\\Python311\\site-packages\\sklearn\\preprocessing\\_encoders.py:202: UserWarning: Found unknown categories in columns [0, 1] during transform. These unknown categories will be encoded as all zeros\n",
      "  warnings.warn(\n",
      "C:\\Users\\Pysku\\AppData\\Local\\Packages\\PythonSoftwareFoundation.Python.3.11_qbz5n2kfra8p0\\LocalCache\\local-packages\\Python311\\site-packages\\sklearn\\preprocessing\\_encoders.py:202: UserWarning: Found unknown categories in columns [0, 1] during transform. These unknown categories will be encoded as all zeros\n",
      "  warnings.warn(\n",
      "C:\\Users\\Pysku\\AppData\\Local\\Packages\\PythonSoftwareFoundation.Python.3.11_qbz5n2kfra8p0\\LocalCache\\local-packages\\Python311\\site-packages\\sklearn\\preprocessing\\_encoders.py:202: UserWarning: Found unknown categories in columns [0, 1] during transform. These unknown categories will be encoded as all zeros\n",
      "  warnings.warn(\n",
      "C:\\Users\\Pysku\\AppData\\Local\\Packages\\PythonSoftwareFoundation.Python.3.11_qbz5n2kfra8p0\\LocalCache\\local-packages\\Python311\\site-packages\\sklearn\\preprocessing\\_encoders.py:202: UserWarning: Found unknown categories in columns [0, 1] during transform. These unknown categories will be encoded as all zeros\n",
      "  warnings.warn(\n",
      "C:\\Users\\Pysku\\AppData\\Local\\Packages\\PythonSoftwareFoundation.Python.3.11_qbz5n2kfra8p0\\LocalCache\\local-packages\\Python311\\site-packages\\sklearn\\preprocessing\\_encoders.py:202: UserWarning: Found unknown categories in columns [0, 1] during transform. These unknown categories will be encoded as all zeros\n",
      "  warnings.warn(\n",
      "C:\\Users\\Pysku\\AppData\\Local\\Packages\\PythonSoftwareFoundation.Python.3.11_qbz5n2kfra8p0\\LocalCache\\local-packages\\Python311\\site-packages\\sklearn\\preprocessing\\_encoders.py:202: UserWarning: Found unknown categories in columns [0, 1] during transform. These unknown categories will be encoded as all zeros\n",
      "  warnings.warn(\n",
      "C:\\Users\\Pysku\\AppData\\Local\\Packages\\PythonSoftwareFoundation.Python.3.11_qbz5n2kfra8p0\\LocalCache\\local-packages\\Python311\\site-packages\\sklearn\\preprocessing\\_encoders.py:202: UserWarning: Found unknown categories in columns [0, 1] during transform. These unknown categories will be encoded as all zeros\n",
      "  warnings.warn(\n",
      "C:\\Users\\Pysku\\AppData\\Local\\Packages\\PythonSoftwareFoundation.Python.3.11_qbz5n2kfra8p0\\LocalCache\\local-packages\\Python311\\site-packages\\sklearn\\preprocessing\\_encoders.py:202: UserWarning: Found unknown categories in columns [0, 1] during transform. These unknown categories will be encoded as all zeros\n",
      "  warnings.warn(\n",
      "C:\\Users\\Pysku\\AppData\\Local\\Packages\\PythonSoftwareFoundation.Python.3.11_qbz5n2kfra8p0\\LocalCache\\local-packages\\Python311\\site-packages\\sklearn\\preprocessing\\_encoders.py:202: UserWarning: Found unknown categories in columns [0, 1] during transform. These unknown categories will be encoded as all zeros\n",
      "  warnings.warn(\n",
      "C:\\Users\\Pysku\\AppData\\Local\\Packages\\PythonSoftwareFoundation.Python.3.11_qbz5n2kfra8p0\\LocalCache\\local-packages\\Python311\\site-packages\\sklearn\\preprocessing\\_encoders.py:202: UserWarning: Found unknown categories in columns [0, 1] during transform. These unknown categories will be encoded as all zeros\n",
      "  warnings.warn(\n",
      "C:\\Users\\Pysku\\AppData\\Local\\Packages\\PythonSoftwareFoundation.Python.3.11_qbz5n2kfra8p0\\LocalCache\\local-packages\\Python311\\site-packages\\sklearn\\preprocessing\\_encoders.py:202: UserWarning: Found unknown categories in columns [0, 1] during transform. These unknown categories will be encoded as all zeros\n",
      "  warnings.warn(\n",
      "C:\\Users\\Pysku\\AppData\\Local\\Packages\\PythonSoftwareFoundation.Python.3.11_qbz5n2kfra8p0\\LocalCache\\local-packages\\Python311\\site-packages\\sklearn\\preprocessing\\_encoders.py:202: UserWarning: Found unknown categories in columns [0, 1] during transform. These unknown categories will be encoded as all zeros\n",
      "  warnings.warn(\n",
      "C:\\Users\\Pysku\\AppData\\Local\\Packages\\PythonSoftwareFoundation.Python.3.11_qbz5n2kfra8p0\\LocalCache\\local-packages\\Python311\\site-packages\\sklearn\\preprocessing\\_encoders.py:202: UserWarning: Found unknown categories in columns [0, 1] during transform. These unknown categories will be encoded as all zeros\n",
      "  warnings.warn(\n",
      "C:\\Users\\Pysku\\AppData\\Local\\Packages\\PythonSoftwareFoundation.Python.3.11_qbz5n2kfra8p0\\LocalCache\\local-packages\\Python311\\site-packages\\sklearn\\preprocessing\\_encoders.py:202: UserWarning: Found unknown categories in columns [0, 1] during transform. These unknown categories will be encoded as all zeros\n",
      "  warnings.warn(\n",
      "C:\\Users\\Pysku\\AppData\\Local\\Packages\\PythonSoftwareFoundation.Python.3.11_qbz5n2kfra8p0\\LocalCache\\local-packages\\Python311\\site-packages\\sklearn\\preprocessing\\_encoders.py:202: UserWarning: Found unknown categories in columns [0, 1] during transform. These unknown categories will be encoded as all zeros\n",
      "  warnings.warn(\n",
      "C:\\Users\\Pysku\\AppData\\Local\\Packages\\PythonSoftwareFoundation.Python.3.11_qbz5n2kfra8p0\\LocalCache\\local-packages\\Python311\\site-packages\\sklearn\\preprocessing\\_encoders.py:202: UserWarning: Found unknown categories in columns [0, 1] during transform. These unknown categories will be encoded as all zeros\n",
      "  warnings.warn(\n",
      "C:\\Users\\Pysku\\AppData\\Local\\Packages\\PythonSoftwareFoundation.Python.3.11_qbz5n2kfra8p0\\LocalCache\\local-packages\\Python311\\site-packages\\sklearn\\preprocessing\\_encoders.py:202: UserWarning: Found unknown categories in columns [0, 1] during transform. These unknown categories will be encoded as all zeros\n",
      "  warnings.warn(\n",
      "C:\\Users\\Pysku\\AppData\\Local\\Packages\\PythonSoftwareFoundation.Python.3.11_qbz5n2kfra8p0\\LocalCache\\local-packages\\Python311\\site-packages\\sklearn\\preprocessing\\_encoders.py:202: UserWarning: Found unknown categories in columns [0, 1] during transform. These unknown categories will be encoded as all zeros\n",
      "  warnings.warn(\n",
      "C:\\Users\\Pysku\\AppData\\Local\\Packages\\PythonSoftwareFoundation.Python.3.11_qbz5n2kfra8p0\\LocalCache\\local-packages\\Python311\\site-packages\\sklearn\\preprocessing\\_encoders.py:202: UserWarning: Found unknown categories in columns [0, 1] during transform. These unknown categories will be encoded as all zeros\n",
      "  warnings.warn(\n",
      "C:\\Users\\Pysku\\AppData\\Local\\Packages\\PythonSoftwareFoundation.Python.3.11_qbz5n2kfra8p0\\LocalCache\\local-packages\\Python311\\site-packages\\sklearn\\preprocessing\\_encoders.py:202: UserWarning: Found unknown categories in columns [0, 1] during transform. These unknown categories will be encoded as all zeros\n",
      "  warnings.warn(\n",
      "C:\\Users\\Pysku\\AppData\\Local\\Packages\\PythonSoftwareFoundation.Python.3.11_qbz5n2kfra8p0\\LocalCache\\local-packages\\Python311\\site-packages\\sklearn\\preprocessing\\_encoders.py:202: UserWarning: Found unknown categories in columns [0, 1] during transform. These unknown categories will be encoded as all zeros\n",
      "  warnings.warn(\n",
      "C:\\Users\\Pysku\\AppData\\Local\\Packages\\PythonSoftwareFoundation.Python.3.11_qbz5n2kfra8p0\\LocalCache\\local-packages\\Python311\\site-packages\\sklearn\\preprocessing\\_encoders.py:202: UserWarning: Found unknown categories in columns [0, 1] during transform. These unknown categories will be encoded as all zeros\n",
      "  warnings.warn(\n",
      "C:\\Users\\Pysku\\AppData\\Local\\Packages\\PythonSoftwareFoundation.Python.3.11_qbz5n2kfra8p0\\LocalCache\\local-packages\\Python311\\site-packages\\sklearn\\preprocessing\\_encoders.py:202: UserWarning: Found unknown categories in columns [0, 1] during transform. These unknown categories will be encoded as all zeros\n",
      "  warnings.warn(\n",
      "C:\\Users\\Pysku\\AppData\\Local\\Packages\\PythonSoftwareFoundation.Python.3.11_qbz5n2kfra8p0\\LocalCache\\local-packages\\Python311\\site-packages\\sklearn\\preprocessing\\_encoders.py:202: UserWarning: Found unknown categories in columns [0, 1] during transform. These unknown categories will be encoded as all zeros\n",
      "  warnings.warn(\n",
      "C:\\Users\\Pysku\\AppData\\Local\\Packages\\PythonSoftwareFoundation.Python.3.11_qbz5n2kfra8p0\\LocalCache\\local-packages\\Python311\\site-packages\\sklearn\\preprocessing\\_encoders.py:202: UserWarning: Found unknown categories in columns [0, 1] during transform. These unknown categories will be encoded as all zeros\n",
      "  warnings.warn(\n",
      "C:\\Users\\Pysku\\AppData\\Local\\Packages\\PythonSoftwareFoundation.Python.3.11_qbz5n2kfra8p0\\LocalCache\\local-packages\\Python311\\site-packages\\sklearn\\preprocessing\\_encoders.py:202: UserWarning: Found unknown categories in columns [0, 1] during transform. These unknown categories will be encoded as all zeros\n",
      "  warnings.warn(\n",
      "C:\\Users\\Pysku\\AppData\\Local\\Packages\\PythonSoftwareFoundation.Python.3.11_qbz5n2kfra8p0\\LocalCache\\local-packages\\Python311\\site-packages\\sklearn\\preprocessing\\_encoders.py:202: UserWarning: Found unknown categories in columns [0, 1] during transform. These unknown categories will be encoded as all zeros\n",
      "  warnings.warn(\n",
      "C:\\Users\\Pysku\\AppData\\Local\\Packages\\PythonSoftwareFoundation.Python.3.11_qbz5n2kfra8p0\\LocalCache\\local-packages\\Python311\\site-packages\\sklearn\\preprocessing\\_encoders.py:202: UserWarning: Found unknown categories in columns [0, 1] during transform. These unknown categories will be encoded as all zeros\n",
      "  warnings.warn(\n",
      "C:\\Users\\Pysku\\AppData\\Local\\Packages\\PythonSoftwareFoundation.Python.3.11_qbz5n2kfra8p0\\LocalCache\\local-packages\\Python311\\site-packages\\sklearn\\preprocessing\\_encoders.py:202: UserWarning: Found unknown categories in columns [0, 1] during transform. These unknown categories will be encoded as all zeros\n",
      "  warnings.warn(\n",
      "C:\\Users\\Pysku\\AppData\\Local\\Packages\\PythonSoftwareFoundation.Python.3.11_qbz5n2kfra8p0\\LocalCache\\local-packages\\Python311\\site-packages\\sklearn\\preprocessing\\_encoders.py:202: UserWarning: Found unknown categories in columns [0, 1] during transform. These unknown categories will be encoded as all zeros\n",
      "  warnings.warn(\n",
      "C:\\Users\\Pysku\\AppData\\Local\\Packages\\PythonSoftwareFoundation.Python.3.11_qbz5n2kfra8p0\\LocalCache\\local-packages\\Python311\\site-packages\\sklearn\\preprocessing\\_encoders.py:202: UserWarning: Found unknown categories in columns [0, 1] during transform. These unknown categories will be encoded as all zeros\n",
      "  warnings.warn(\n",
      "C:\\Users\\Pysku\\AppData\\Local\\Packages\\PythonSoftwareFoundation.Python.3.11_qbz5n2kfra8p0\\LocalCache\\local-packages\\Python311\\site-packages\\sklearn\\preprocessing\\_encoders.py:202: UserWarning: Found unknown categories in columns [0, 1] during transform. These unknown categories will be encoded as all zeros\n",
      "  warnings.warn(\n",
      "C:\\Users\\Pysku\\AppData\\Local\\Packages\\PythonSoftwareFoundation.Python.3.11_qbz5n2kfra8p0\\LocalCache\\local-packages\\Python311\\site-packages\\sklearn\\preprocessing\\_encoders.py:202: UserWarning: Found unknown categories in columns [0, 1] during transform. These unknown categories will be encoded as all zeros\n",
      "  warnings.warn(\n",
      "C:\\Users\\Pysku\\AppData\\Local\\Packages\\PythonSoftwareFoundation.Python.3.11_qbz5n2kfra8p0\\LocalCache\\local-packages\\Python311\\site-packages\\sklearn\\preprocessing\\_encoders.py:202: UserWarning: Found unknown categories in columns [0, 1] during transform. These unknown categories will be encoded as all zeros\n",
      "  warnings.warn(\n",
      "C:\\Users\\Pysku\\AppData\\Local\\Packages\\PythonSoftwareFoundation.Python.3.11_qbz5n2kfra8p0\\LocalCache\\local-packages\\Python311\\site-packages\\sklearn\\preprocessing\\_encoders.py:202: UserWarning: Found unknown categories in columns [0, 1] during transform. These unknown categories will be encoded as all zeros\n",
      "  warnings.warn(\n",
      "C:\\Users\\Pysku\\AppData\\Local\\Packages\\PythonSoftwareFoundation.Python.3.11_qbz5n2kfra8p0\\LocalCache\\local-packages\\Python311\\site-packages\\sklearn\\preprocessing\\_encoders.py:202: UserWarning: Found unknown categories in columns [0, 1] during transform. These unknown categories will be encoded as all zeros\n",
      "  warnings.warn(\n",
      "C:\\Users\\Pysku\\AppData\\Local\\Packages\\PythonSoftwareFoundation.Python.3.11_qbz5n2kfra8p0\\LocalCache\\local-packages\\Python311\\site-packages\\sklearn\\preprocessing\\_encoders.py:202: UserWarning: Found unknown categories in columns [0, 1] during transform. These unknown categories will be encoded as all zeros\n",
      "  warnings.warn(\n",
      "C:\\Users\\Pysku\\AppData\\Local\\Packages\\PythonSoftwareFoundation.Python.3.11_qbz5n2kfra8p0\\LocalCache\\local-packages\\Python311\\site-packages\\sklearn\\preprocessing\\_encoders.py:202: UserWarning: Found unknown categories in columns [0, 1] during transform. These unknown categories will be encoded as all zeros\n",
      "  warnings.warn(\n",
      "C:\\Users\\Pysku\\AppData\\Local\\Packages\\PythonSoftwareFoundation.Python.3.11_qbz5n2kfra8p0\\LocalCache\\local-packages\\Python311\\site-packages\\sklearn\\preprocessing\\_encoders.py:202: UserWarning: Found unknown categories in columns [0, 1] during transform. These unknown categories will be encoded as all zeros\n",
      "  warnings.warn(\n",
      "C:\\Users\\Pysku\\AppData\\Local\\Packages\\PythonSoftwareFoundation.Python.3.11_qbz5n2kfra8p0\\LocalCache\\local-packages\\Python311\\site-packages\\sklearn\\preprocessing\\_encoders.py:202: UserWarning: Found unknown categories in columns [0, 1] during transform. These unknown categories will be encoded as all zeros\n",
      "  warnings.warn(\n",
      "C:\\Users\\Pysku\\AppData\\Local\\Packages\\PythonSoftwareFoundation.Python.3.11_qbz5n2kfra8p0\\LocalCache\\local-packages\\Python311\\site-packages\\sklearn\\preprocessing\\_encoders.py:202: UserWarning: Found unknown categories in columns [0, 1] during transform. These unknown categories will be encoded as all zeros\n",
      "  warnings.warn(\n",
      "C:\\Users\\Pysku\\AppData\\Local\\Packages\\PythonSoftwareFoundation.Python.3.11_qbz5n2kfra8p0\\LocalCache\\local-packages\\Python311\\site-packages\\sklearn\\preprocessing\\_encoders.py:202: UserWarning: Found unknown categories in columns [0, 1] during transform. These unknown categories will be encoded as all zeros\n",
      "  warnings.warn(\n",
      "C:\\Users\\Pysku\\AppData\\Local\\Packages\\PythonSoftwareFoundation.Python.3.11_qbz5n2kfra8p0\\LocalCache\\local-packages\\Python311\\site-packages\\sklearn\\preprocessing\\_encoders.py:202: UserWarning: Found unknown categories in columns [0, 1] during transform. These unknown categories will be encoded as all zeros\n",
      "  warnings.warn(\n",
      "C:\\Users\\Pysku\\AppData\\Local\\Packages\\PythonSoftwareFoundation.Python.3.11_qbz5n2kfra8p0\\LocalCache\\local-packages\\Python311\\site-packages\\sklearn\\preprocessing\\_encoders.py:202: UserWarning: Found unknown categories in columns [0, 1] during transform. These unknown categories will be encoded as all zeros\n",
      "  warnings.warn(\n",
      "C:\\Users\\Pysku\\AppData\\Local\\Packages\\PythonSoftwareFoundation.Python.3.11_qbz5n2kfra8p0\\LocalCache\\local-packages\\Python311\\site-packages\\sklearn\\preprocessing\\_encoders.py:202: UserWarning: Found unknown categories in columns [0, 1] during transform. These unknown categories will be encoded as all zeros\n",
      "  warnings.warn(\n",
      "C:\\Users\\Pysku\\AppData\\Local\\Packages\\PythonSoftwareFoundation.Python.3.11_qbz5n2kfra8p0\\LocalCache\\local-packages\\Python311\\site-packages\\sklearn\\preprocessing\\_encoders.py:202: UserWarning: Found unknown categories in columns [0, 1] during transform. These unknown categories will be encoded as all zeros\n",
      "  warnings.warn(\n",
      "C:\\Users\\Pysku\\AppData\\Local\\Packages\\PythonSoftwareFoundation.Python.3.11_qbz5n2kfra8p0\\LocalCache\\local-packages\\Python311\\site-packages\\sklearn\\preprocessing\\_encoders.py:202: UserWarning: Found unknown categories in columns [0, 1] during transform. These unknown categories will be encoded as all zeros\n",
      "  warnings.warn(\n",
      "C:\\Users\\Pysku\\AppData\\Local\\Packages\\PythonSoftwareFoundation.Python.3.11_qbz5n2kfra8p0\\LocalCache\\local-packages\\Python311\\site-packages\\sklearn\\preprocessing\\_encoders.py:202: UserWarning: Found unknown categories in columns [0, 1] during transform. These unknown categories will be encoded as all zeros\n",
      "  warnings.warn(\n",
      "C:\\Users\\Pysku\\AppData\\Local\\Packages\\PythonSoftwareFoundation.Python.3.11_qbz5n2kfra8p0\\LocalCache\\local-packages\\Python311\\site-packages\\sklearn\\preprocessing\\_encoders.py:202: UserWarning: Found unknown categories in columns [0, 1] during transform. These unknown categories will be encoded as all zeros\n",
      "  warnings.warn(\n"
     ]
    },
    {
     "data": {
      "text/plain": [
       "<Axes: title={'center': 'Perm Importances by Model'}>"
      ]
     },
     "execution_count": 103,
     "metadata": {},
     "output_type": "execute_result"
    },
    {
     "data": {
      "image/png": "[encoded data removed]",
      "text/plain": [
       "<Figure size 800x400 with 1 Axes>"
      ]
     },
     "metadata": {},
     "output_type": "display_data"
    }
   ],
   "source": [
    "from sklearn.inspection import permutation_importance\n",
    "\n",
    "all_imps = {}\n",
    "for name, pipe in pipelines.items():\n",
    "    res = permutation_importance(pipe, X_test, y_test,\n",
    "                                 n_repeats=10,\n",
    "                                 scoring='roc_auc',\n",
    "                                 random_state=42)\n",
    "    all_imps[name] = pd.Series(res.importances_mean, index=X_test.columns)\n",
    "\n",
    "imp_df = pd.DataFrame(all_imps)\n",
    "imp_df.sort_values(by='xgb', ascending=False).head(10)\n",
    "# або навіть:\n",
    "imp_df.plot.bar(figsize=(8,4), title=\"Perm Importances by Model\")\n"
   ]
  },
  {
   "cell_type": "code",
   "execution_count": null,
   "id": "f84d8811",
   "metadata": {},
   "outputs": [],
   "source": [
    "# we added two new models to the pipeline: RandomForest with 1000 trees and XGBoost with 100 boosting rounds, use_label_encoder=False and eval_metric='logloss'\n",
    "# both models use the same one-hot + passthrough preprocessing and slot right in after our logistic regression\n",
    "# next weI ran a quick 5-fold cross-validation on the categorical features only, scoring with ROC-AUC to see which model looks most promising\n",
    "# the results showed RF and XGBoost outperforming logistic regression (around 0.62 vs 0.615)\n",
    "# then we did a permutation importance analysis: fit each model on the training set, shuffled each feature 10 times on the test set and measured the drop in ROC-AUC\n",
    "# this gave me an average importance score for every feature in each model\n",
    "# finally we plotted the importances side by side and saw that signup_channel, signup_client_platform and country are the top predictors, followed by bib_day0, trial_day1 and episode_day0\n",
    "# these insights point the way forward: engineer deeper features around those top signals, tune RF/XGBoost hyperparameters, or test new algorithms for extra gains\n"
   ]
  },
  {
   "cell_type": "code",
   "execution_count": null,
   "id": "fca76467",
   "metadata": {},
   "outputs": [],
   "source": [
    "class FrequencyEncoder(BaseEstimator, TransformerMixin):\n",
    "    def fit(self, X, y=None):\n",
    "        # X: DataFrame із категоріальними стовпцями\n",
    "        self.maps_ = {\n",
    "            col: X[col].value_counts(normalize=True).to_dict()\n",
    "            for col in X.columns\n",
    "        }\n",
    "        return self\n",
    "\n",
    "    def transform(self, X):\n",
    "        X2 = X.copy()\n",
    "        for col, fmap in self.maps_.items():\n",
    "            X2[col] = X2[col].map(fmap).fillna(0.0)\n",
    "        return X2"
   ]
  },
  {
   "cell_type": "code",
   "execution_count": null,
   "id": "8f71aa09",
   "metadata": {},
   "outputs": [],
   "source": [
    "# I wrote a sklearn-style FrequencyEncoder to map high-cardinality columns (country, signup_channel) to their relative frequencies and used OneHotEncoder for low-cardinality columns (signup_client_platform)\n",
    "# then I built a ColumnTransformer that applies ‘freq’ to the high-cardinality set and ‘ohe’ to the low-cardinality set, passing through all other features\n",
    "# finally I wrapped that transformer and an XGBClassifier(n_estimators=100, use_label_encoder=False, eval_metric='logloss', random_state=0) into one Pipeline\n",
    "# now I have a clean, end-to-end preprocessing + modeling workflow that handles both many and few categories seamlessly\n",
    "\n",
    "N = 2\n",
    "\n",
    "\n",
    "num_cols = [f'bib_day{N-1}',          # bib_day0  (при N=1)\n",
    "            f'episode_day{N-1}',      # episode_day0\n",
    "            f'trial_day{N-1}',\n",
    "            f'trial_day{N}']          # trial_day1 (індикатор trial ≤24 год)\n",
    "\n",
    "\n",
    "cat_high = ['country', 'signup_channel']\n",
    "cat_low  = ['signup_client_platform']"
   ]
  },
  {
   "cell_type": "code",
   "execution_count": 60,
   "id": "599d2fc1",
   "metadata": {},
   "outputs": [],
   "source": [
    "preprocess_tuned = ColumnTransformer([\n",
    "    # частотне кодування для high-cardinality\n",
    "    ('freq', FrequencyEncoder(), cat_high),\n",
    "    # one-hot для low-cardinality\n",
    "    ('ohe', OneHotEncoder(drop=None, handle_unknown='ignore'), cat_low),\n",
    "],\n",
    "remainder='passthrough'  # усі інші стовпці залишаємо як є\n",
    ")\n",
    "\n",
    "pipe_xgb = Pipeline([\n",
    "    ('prep', preprocess_tuned),\n",
    "    ('xgb', XGBClassifier(n_estimators=100, use_label_encoder=False, eval_metric='logloss', random_state=0))\n",
    "])"
   ]
  },
  {
   "cell_type": "code",
   "execution_count": 61,
   "id": "97753c11",
   "metadata": {},
   "outputs": [
    {
     "name": "stderr",
     "output_type": "stream",
     "text": [
      "C:\\Users\\Pysku\\AppData\\Local\\Packages\\PythonSoftwareFoundation.Python.3.11_qbz5n2kfra8p0\\LocalCache\\local-packages\\Python311\\site-packages\\xgboost\\training.py:183: UserWarning: [18:06:11] WARNING: C:\\actions-runner\\_work\\xgboost\\xgboost\\src\\learner.cc:738: \n",
      "Parameters: { \"use_label_encoder\" } are not used.\n",
      "\n",
      "  bst.update(dtrain, iteration=i, fobj=obj)\n"
     ]
    }
   ],
   "source": [
    "pipe_xgb.fit(X_train, y_train)\n",
    "# Робимо прогноз ймовірностей і класів на тесті\n",
    "y_prob = pipe_xgb.predict_proba(X_test)[:,1]\n",
    "y_pred = pipe_xgb.predict(X_test)"
   ]
  },
  {
   "cell_type": "code",
   "execution_count": null,
   "id": "a21447b4",
   "metadata": {},
   "outputs": [
    {
     "name": "stderr",
     "output_type": "stream",
     "text": [
      "C:\\Users\\Pysku\\AppData\\Local\\Packages\\PythonSoftwareFoundation.Python.3.11_qbz5n2kfra8p0\\LocalCache\\local-packages\\Python311\\site-packages\\xgboost\\training.py:183: UserWarning: [18:06:14] WARNING: C:\\actions-runner\\_work\\xgboost\\xgboost\\src\\learner.cc:738: \n",
      "Parameters: { \"use_label_encoder\" } are not used.\n",
      "\n",
      "  bst.update(dtrain, iteration=i, fobj=obj)\n",
      "C:\\Users\\Pysku\\AppData\\Local\\Packages\\PythonSoftwareFoundation.Python.3.11_qbz5n2kfra8p0\\LocalCache\\local-packages\\Python311\\site-packages\\xgboost\\training.py:183: UserWarning: [18:06:15] WARNING: C:\\actions-runner\\_work\\xgboost\\xgboost\\src\\learner.cc:738: \n",
      "Parameters: { \"use_label_encoder\" } are not used.\n",
      "\n",
      "  bst.update(dtrain, iteration=i, fobj=obj)\n",
      "C:\\Users\\Pysku\\AppData\\Local\\Packages\\PythonSoftwareFoundation.Python.3.11_qbz5n2kfra8p0\\LocalCache\\local-packages\\Python311\\site-packages\\xgboost\\training.py:183: UserWarning: [18:06:16] WARNING: C:\\actions-runner\\_work\\xgboost\\xgboost\\src\\learner.cc:738: \n",
      "Parameters: { \"use_label_encoder\" } are not used.\n",
      "\n",
      "  bst.update(dtrain, iteration=i, fobj=obj)\n",
      "C:\\Users\\Pysku\\AppData\\Local\\Packages\\PythonSoftwareFoundation.Python.3.11_qbz5n2kfra8p0\\LocalCache\\local-packages\\Python311\\site-packages\\xgboost\\training.py:183: UserWarning: [18:06:17] WARNING: C:\\actions-runner\\_work\\xgboost\\xgboost\\src\\learner.cc:738: \n",
      "Parameters: { \"use_label_encoder\" } are not used.\n",
      "\n",
      "  bst.update(dtrain, iteration=i, fobj=obj)\n",
      "C:\\Users\\Pysku\\AppData\\Local\\Packages\\PythonSoftwareFoundation.Python.3.11_qbz5n2kfra8p0\\LocalCache\\local-packages\\Python311\\site-packages\\xgboost\\training.py:183: UserWarning: [18:06:18] WARNING: C:\\actions-runner\\_work\\xgboost\\xgboost\\src\\learner.cc:738: \n",
      "Parameters: { \"use_label_encoder\" } are not used.\n",
      "\n",
      "  bst.update(dtrain, iteration=i, fobj=obj)\n"
     ]
    },
    {
     "name": "stdout",
     "output_type": "stream",
     "text": [
      "\n",
      "=== Cross-validation results (5-fold) ===\n",
      "ROC_AUC  : 0.666 ± 0.003\n",
      "F1       : 0.380 ± 0.003\n",
      "ACCURACY : 0.649 ± 0.000\n"
     ]
    }
   ],
   "source": [
    "# I set up a 5-fold StratifiedKFold CV with scoring={'roc_auc','f1','accuracy'} and ran cross_validate on the XGB pipeline over X,y\n",
    "# this gave me reliable baseline metrics: ROC-AUC ~0.666±0.003, F1 ~0.380±0.003, Accuracy ~0.649±0.000\n",
    "# seeing these numbers confirmed that the pipeline architecture is solid and worth tuning before moving further\n",
    "\n",
    "cv = StratifiedKFold(n_splits=5, shuffle=True, random_state=42)\n",
    "scoring = {\n",
    "    'roc_auc':  'roc_auc',\n",
    "    'f1':       'f1',\n",
    "    'accuracy': 'accuracy'\n",
    "}\n",
    "\n",
    "cv_res = cross_validate(\n",
    "    pipe_xgb,\n",
    "    X, y,\n",
    "    cv=cv,\n",
    "    scoring=scoring,\n",
    "    return_train_score=False\n",
    ")\n",
    "\n",
    "\n",
    "print(f\"\\n=== Cross-validation results (5-fold) ===\")\n",
    "for metric in scoring:\n",
    "    scores = cv_res[f'test_{metric}']\n",
    "    print(f\"{metric.upper():9s}: {scores.mean():.3f} ± {scores.std():.3f}\")"
   ]
  },
  {
   "cell_type": "code",
   "execution_count": 64,
   "id": "45dac738",
   "metadata": {},
   "outputs": [],
   "source": [
    "pipe_xgb_tuned = Pipeline([\n",
    "    ('prep', preprocess_tuned),\n",
    "    ('xgb', XGBClassifier(n_estimators=100, use_label_encoder=False, eval_metric='logloss', random_state=0))\n",
    "])"
   ]
  },
  {
   "cell_type": "code",
   "execution_count": 65,
   "id": "eef90089",
   "metadata": {},
   "outputs": [],
   "source": [
    "# 1) Задаємо простір гіперпараметрів\n",
    "param_dist = {\n",
    "    'xgb__n_estimators':     [100, 300, 500, 800],\n",
    "    'xgb__max_depth':        [3, 5, 7, 9],\n",
    "    'xgb__min_child_weight': [1, 3, 5],\n",
    "    'xgb__gamma':            [0, 0.5, 1, 5],\n",
    "    'xgb__subsample':        [0.6, 0.8, 1.0],\n",
    "    'xgb__colsample_bytree': [0.6, 0.8, 1.0],\n",
    "    'xgb__learning_rate':    [0.01, 0.05, 0.1, 0.2],\n",
    "    'xgb__reg_alpha':        [0, 0.1, 1, 5],\n",
    "    'xgb__reg_lambda':       [1, 5, 10]\n",
    "}"
   ]
  },
  {
   "cell_type": "code",
   "execution_count": 66,
   "id": "f5ba0aae",
   "metadata": {},
   "outputs": [],
   "source": [
    "# 2) Налаштовуємо CV-схему\n",
    "cv = StratifiedKFold(n_splits=5, shuffle=True, random_state=42)"
   ]
  },
  {
   "cell_type": "code",
   "execution_count": null,
   "id": "bcba5277",
   "metadata": {},
   "outputs": [],
   "source": [
    "# 3) Створюємо RandomizedSearchCV\n",
    "search = RandomizedSearchCV(\n",
    "    estimator=pipe_xgb_tuned,\n",
    "    param_distributions=param_dist,\n",
    "    n_iter=30,               # кількість випадкових комбінацій\n",
    "    scoring='roc_auc',       # оптимізуємо ROC-AUC\n",
    "    cv=cv,\n",
    "    verbose=1,\n",
    "    n_jobs=-1,\n",
    "    random_state=42\n",
    ")"
   ]
  },
  {
   "cell_type": "code",
   "execution_count": null,
   "id": "2346ad48",
   "metadata": {},
   "outputs": [
    {
     "name": "stdout",
     "output_type": "stream",
     "text": [
      "Fitting 5 folds for each of 30 candidates, totalling 150 fits\n"
     ]
    },
    {
     "name": "stderr",
     "output_type": "stream",
     "text": [
      "C:\\Users\\Pysku\\AppData\\Local\\Packages\\PythonSoftwareFoundation.Python.3.11_qbz5n2kfra8p0\\LocalCache\\local-packages\\Python311\\site-packages\\xgboost\\training.py:183: UserWarning: [18:18:18] WARNING: C:\\actions-runner\\_work\\xgboost\\xgboost\\src\\learner.cc:738: \n",
      "Parameters: { \"use_label_encoder\" } are not used.\n",
      "\n",
      "  bst.update(dtrain, iteration=i, fobj=obj)\n"
     ]
    },
    {
     "name": "stdout",
     "output_type": "stream",
     "text": [
      "Best CV ROC-AUC:      0.6662856258855132\n",
      "Best hyperparameters: {'xgb__subsample': 0.6, 'xgb__reg_lambda': 10, 'xgb__reg_alpha': 0, 'xgb__n_estimators': 300, 'xgb__min_child_weight': 1, 'xgb__max_depth': 7, 'xgb__learning_rate': 0.05, 'xgb__gamma': 0.5, 'xgb__colsample_bytree': 0.8}\n"
     ]
    }
   ],
   "source": [
    "\n",
    "search.fit(X_train, y_train)\n",
    "\n",
    "\n",
    "print(\"Best CV ROC-AUC:     \", search.best_score_)\n",
    "print(\"Best hyperparameters:\", search.best_params_)"
   ]
  },
  {
   "cell_type": "code",
   "execution_count": 69,
   "id": "7dfe4089",
   "metadata": {},
   "outputs": [
    {
     "name": "stdout",
     "output_type": "stream",
     "text": [
      "Test ROC-AUC:  0.6660937241296527\n",
      "Test F1:       0.37785341502155656\n",
      "Test Accuracy: 0.6475110562583565\n"
     ]
    }
   ],
   "source": [
    "# 6) Оцінюємо на тесті\n",
    "best_pipe = search.best_estimator_\n",
    "y_prob = best_pipe.predict_proba(X_test)[:,1]\n",
    "y_pred = best_pipe.predict(X_test)\n",
    "\n",
    "from sklearn.metrics import roc_auc_score, f1_score, accuracy_score\n",
    "print(\"Test ROC-AUC: \", roc_auc_score(y_test, y_prob))\n",
    "print(\"Test F1:      \", f1_score   (y_test, y_pred))\n",
    "print(\"Test Accuracy:\", accuracy_score(y_test, y_pred))"
   ]
  },
  {
   "cell_type": "code",
   "execution_count": 70,
   "id": "a616285f",
   "metadata": {},
   "outputs": [],
   "source": [
    "pipe_xgb_tuned = Pipeline([\n",
    "    ('prep', preprocess),\n",
    "    ('xgb', XGBClassifier(n_estimators=100, use_label_encoder=False, eval_metric='logloss', random_state=0))\n",
    "])"
   ]
  },
  {
   "cell_type": "code",
   "execution_count": 71,
   "id": "52957685",
   "metadata": {},
   "outputs": [],
   "source": [
    "# 1) Задаємо простір гіперпараметрів\n",
    "param_dist = {\n",
    "    'xgb__n_estimators':     [100, 300, 500, 800],\n",
    "    'xgb__max_depth':        [3, 5, 7, 9],\n",
    "    'xgb__min_child_weight': [1, 3, 5],\n",
    "    'xgb__gamma':            [0, 0.5, 1, 5],\n",
    "    'xgb__subsample':        [0.6, 0.8, 1.0],\n",
    "    'xgb__colsample_bytree': [0.6, 0.8, 1.0],\n",
    "    'xgb__learning_rate':    [0.01, 0.05, 0.1, 0.2],\n",
    "    'xgb__reg_alpha':        [0, 0.1, 1, 5],\n",
    "    'xgb__reg_lambda':       [1, 5, 10]\n",
    "}"
   ]
  },
  {
   "cell_type": "code",
   "execution_count": 72,
   "id": "fccf189a",
   "metadata": {},
   "outputs": [],
   "source": [
    "# 2) Налаштовуємо CV-схему\n",
    "cv = StratifiedKFold(n_splits=5, shuffle=True, random_state=42)"
   ]
  },
  {
   "cell_type": "code",
   "execution_count": null,
   "id": "832f0703",
   "metadata": {},
   "outputs": [],
   "source": [
    "# 3) Створюємо RandomizedSearchCV\n",
    "search = RandomizedSearchCV(\n",
    "    estimator=pipe_xgb_tuned,\n",
    "    param_distributions=param_dist,\n",
    "    n_iter=30,               # кількість випадкових комбінацій\n",
    "    scoring='roc_auc',       # оптимізуємо ROC-AUC\n",
    "    cv=cv,\n",
    "    verbose=1,\n",
    "    n_jobs=-1,\n",
    "    random_state=42\n",
    ")"
   ]
  },
  {
   "cell_type": "code",
   "execution_count": 74,
   "id": "1fd3a265",
   "metadata": {},
   "outputs": [
    {
     "name": "stdout",
     "output_type": "stream",
     "text": [
      "Fitting 5 folds for each of 30 candidates, totalling 150 fits\n"
     ]
    },
    {
     "name": "stderr",
     "output_type": "stream",
     "text": [
      "C:\\Users\\Pysku\\AppData\\Local\\Packages\\PythonSoftwareFoundation.Python.3.11_qbz5n2kfra8p0\\LocalCache\\local-packages\\Python311\\site-packages\\xgboost\\training.py:183: UserWarning: [18:46:07] WARNING: C:\\actions-runner\\_work\\xgboost\\xgboost\\src\\learner.cc:738: \n",
      "Parameters: { \"use_label_encoder\" } are not used.\n",
      "\n",
      "  bst.update(dtrain, iteration=i, fobj=obj)\n"
     ]
    },
    {
     "name": "stdout",
     "output_type": "stream",
     "text": [
      "Best CV ROC-AUC:      0.6671430498265438\n",
      "Best hyperparameters: {'xgb__subsample': 0.8, 'xgb__reg_lambda': 5, 'xgb__reg_alpha': 0, 'xgb__n_estimators': 500, 'xgb__min_child_weight': 3, 'xgb__max_depth': 7, 'xgb__learning_rate': 0.05, 'xgb__gamma': 1, 'xgb__colsample_bytree': 1.0}\n"
     ]
    }
   ],
   "source": [
    "# 4) Запускаємо пошук\n",
    "search.fit(X_train, y_train)\n",
    "\n",
    "# 5) Виводимо результати\n",
    "print(\"Best CV ROC-AUC:     \", search.best_score_)\n",
    "print(\"Best hyperparameters:\", search.best_params_)"
   ]
  },
  {
   "cell_type": "code",
   "execution_count": 75,
   "id": "38804130",
   "metadata": {},
   "outputs": [
    {
     "name": "stderr",
     "output_type": "stream",
     "text": [
      "C:\\Users\\Pysku\\AppData\\Local\\Packages\\PythonSoftwareFoundation.Python.3.11_qbz5n2kfra8p0\\LocalCache\\local-packages\\Python311\\site-packages\\sklearn\\preprocessing\\_encoders.py:202: UserWarning: Found unknown categories in columns [0, 1] during transform. These unknown categories will be encoded as all zeros\n",
      "  warnings.warn(\n",
      "C:\\Users\\Pysku\\AppData\\Local\\Packages\\PythonSoftwareFoundation.Python.3.11_qbz5n2kfra8p0\\LocalCache\\local-packages\\Python311\\site-packages\\sklearn\\preprocessing\\_encoders.py:202: UserWarning: Found unknown categories in columns [0, 1] during transform. These unknown categories will be encoded as all zeros\n",
      "  warnings.warn(\n"
     ]
    },
    {
     "name": "stdout",
     "output_type": "stream",
     "text": [
      "Test ROC-AUC:  0.6669182535115032\n",
      "Test F1:       0.37697907188353047\n",
      "Test Accuracy: 0.6478967396893963\n"
     ]
    }
   ],
   "source": [
    "# 6) Оцінюємо на тесті\n",
    "best_pipe = search.best_estimator_\n",
    "y_prob = best_pipe.predict_proba(X_test)[:,1]\n",
    "y_pred = best_pipe.predict(X_test)\n",
    "\n",
    "from sklearn.metrics import roc_auc_score, f1_score, accuracy_score\n",
    "print(\"Test ROC-AUC: \", roc_auc_score(y_test, y_prob))\n",
    "print(\"Test F1:      \", f1_score   (y_test, y_pred))\n",
    "print(\"Test Accuracy:\", accuracy_score(y_test, y_pred))"
   ]
  },
  {
   "cell_type": "code",
   "execution_count": null,
   "id": "5ed8c6f8",
   "metadata": {},
   "outputs": [],
   "source": [
    "\n",
    "# I defined a hyperparameter space for XGB (n_estimators, max_depth, learning_rate, gamma, subsample, colsample_bytree, reg_alpha, reg_lambda)\n",
    "# then ran RandomizedSearchCV(pipe_xgb_tuned, param_distributions=param_dist, n_iter=30, scoring='roc_auc', cv=cv, random_state=42)\n",
    "# after ~150 fits I printed best_score_ and best_params_, evaluated the best estimator on the test set (roc_auc_score, f1_score, accuracy_score)\n",
    "# finally I plotted the Day-2 feature gains chart and saw top drivers like signup_channel_uac, signup_client_platform_iOS, country_us, bib_day0 and trial_day1\n",
    "\n",
    "onehotencoding\n",
    "Test ROC-AUC:  0.6669182535115032\n",
    "Test F1:       0.37697907188353047\n",
    "Test Accuracy: 0.6478967396893963\n",
    "Best CV ROC-AUC:      0.6671430498265438\n",
    "Best hyperparameters: {'xgb__subsample': 0.8, 'xgb__reg_lambda': 5, 'xgb__reg_alpha': 0, 'xgb__n_estimators': 500, 'xgb__min_child_weight': 3, 'xgb__max_depth': 7, 'xgb__learning_rate': 0.05, 'xgb__gamma': 1, 'xgb__colsample_bytree': 1.0}\n",
    "\n",
    "\n",
    "freequent\n",
    "Test ROC-AUC:  0.6660937241296527\n",
    "Test F1:       0.37785341502155656\n",
    "Test Accuracy: 0.6475110562583565\n",
    "Best CV ROC-AUC:      0.6662856258855132\n",
    "Best hyperparameters: {'xgb__subsample': 0.6, 'xgb__reg_lambda': 10, 'xgb__reg_alpha': 0, 'xgb__n_estimators': 300, 'xgb__min_child_weight': 1, 'xgb__max_depth': 7, 'xgb__learning_rate': 0.05, 'xgb__gamma': 0.5, 'xgb__colsample_bytree': 0.8}\n",
    "\n"
   ]
  },
  {
   "cell_type": "code",
   "execution_count": 87,
   "id": "8678e037",
   "metadata": {},
   "outputs": [
    {
     "name": "stderr",
     "output_type": "stream",
     "text": [
      "C:\\Users\\Pysku\\AppData\\Local\\Packages\\PythonSoftwareFoundation.Python.3.11_qbz5n2kfra8p0\\LocalCache\\local-packages\\Python311\\site-packages\\xgboost\\training.py:183: UserWarning: [02:05:06] WARNING: C:\\actions-runner\\_work\\xgboost\\xgboost\\src\\learner.cc:738: \n",
      "Parameters: { \"use_label_encoder\" } are not used.\n",
      "\n",
      "  bst.update(dtrain, iteration=i, fobj=obj)\n"
     ]
    },
    {
     "data": {
      "image/png": "[encoded data removed]",
      "text/plain": [
       "<Figure size 700x1000 with 1 Axes>"
      ]
     },
     "metadata": {},
     "output_type": "display_data"
    }
   ],
   "source": [
    "pipe_xgb_best = Pipeline([\n",
    "    ('prep', preprocess),\n",
    "    ('xgb',  XGBClassifier(\n",
    "                 n_estimators=500, max_depth=7, learning_rate=0.05, reg_alpha = 0,\n",
    "                 subsample=0.8, colsample_bytree=1, min_child_weight = 3,\n",
    "                 random_state=42, eval_metric='logloss', gamma = 1, reg_lambda = 5,\n",
    "                 use_label_encoder=False))\n",
    "])\n",
    "\n",
    "pipe_xgb_best.fit(X_train, y_train)\n",
    "\n",
    "# важливості\n",
    "booster = pipe_xgb_best.named_steps['xgb'].get_booster()\n",
    "gain = pd.Series(booster.get_score(importance_type='gain'))\n",
    "feat_names = pipe_xgb_best.named_steps['prep'].get_feature_names_out()\n",
    "feat_gain = gain.rename(index=lambda f: feat_names[int(f[1:])]).sort_values(ascending=False)\n",
    "\n",
    "feat_gain.head(40).iloc[::-1].plot(kind='barh', figsize=(7,10))\n",
    "plt.title(f\"XGB gain – Day-{N}\")\n",
    "plt.xlabel(\"average gain\"); plt.tight_layout(); plt.show()"
   ]
  },
  {
   "cell_type": "code",
   "execution_count": null,
   "id": "c76d5cc3",
   "metadata": {},
   "outputs": [],
   "source": []
  },
  {
   "cell_type": "code",
   "execution_count": null,
   "id": "29d75f06",
   "metadata": {},
   "outputs": [],
   "source": []
  }
 ],
 "metadata": {
  "kernelspec": {
   "display_name": "Python 3",
   "language": "python",
   "name": "python3"
  },
  "language_info": {
   "codemirror_mode": {
    "name": "ipython",
    "version": 3
   },
   "file_extension": ".py",
   "mimetype": "text/x-python",
   "name": "python",
   "nbconvert_exporter": "python",
   "pygments_lexer": "ipython3",
   "version": "3.11.9"
  }
 },
 "nbformat": 4,
 "nbformat_minor": 5
}
